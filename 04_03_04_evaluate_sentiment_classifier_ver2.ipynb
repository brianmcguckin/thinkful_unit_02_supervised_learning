{
 "cells": [
  {
   "cell_type": "code",
   "execution_count": 1,
   "metadata": {},
   "outputs": [],
   "source": [
    "import numpy as np\n",
    "import pandas as pd\n",
    "import scipy\n",
    "import sklearn"
   ]
  },
  {
   "cell_type": "markdown",
   "metadata": {},
   "source": [
    "## Amazon Reviews - Naive Bayes\n",
    "\n",
    "Classifies unique words from reviews as positive or negative, then uses these lists to predict review scores"
   ]
  },
  {
   "cell_type": "code",
   "execution_count": 2,
   "metadata": {},
   "outputs": [],
   "source": [
    "amazon = pd.read_table('amazon_cells_labelled.txt', header=None)\n",
    "amazon.columns = ['text', 'negative']\n",
    "amazon = pd.DataFrame(amazon)\n",
    "amazon['text'] = amazon.text.str.lower() #lowercase all rows"
   ]
  },
  {
   "cell_type": "code",
   "execution_count": 3,
   "metadata": {},
   "outputs": [],
   "source": [
    "#set score column to boolean for comparisons, negative = True\n",
    "amazon['negative'] = (amazon['negative'] == 0)"
   ]
  },
  {
   "cell_type": "code",
   "execution_count": 12,
   "metadata": {},
   "outputs": [],
   "source": [
    "#count unique words\n",
    "amazon_words = pd.DataFrame(amazon['text'].str.split(' ', expand=True).stack().value_counts())\n",
    "amazon_words.columns = ['total_count']\n",
    "\n",
    "#get counts for negative and positive reviews\n",
    "amazon_negative = amazon[amazon['negative']==True]\n",
    "amazon_positive = amazon[amazon['negative']==False]\n",
    "\n",
    "amazon_negative_count = pd.DataFrame(amazon_negative['text'].str.split(' ', expand=True).stack().value_counts())\n",
    "amazon_negative_count.columns = ['negative_count']\n",
    "amazon_positive_count = pd.DataFrame(amazon_positive['text'].str.split(' ', expand=True).stack().value_counts())\n",
    "amazon_positive_count.columns = ['positive_count']\n",
    "\n",
    "#join together\n",
    "count_joined = amazon_negative_count.join(amazon_positive_count)\n",
    "count_joined = count_joined.join(amazon_words['total_count'])\n",
    "\n",
    "#calculate probabilites and join\n",
    "count_joined['negative_prob'] = count_joined['negative_count']/count_joined['total_count']\n",
    "count_joined['positive_prob'] = count_joined['positive_count']/count_joined['total_count']\n",
    "\n",
    "#put higher negative probabilty words into list\n",
    "amzn_words_negative = pd.DataFrame(count_joined['negative_prob'] > count_joined['positive_prob'])\n",
    "amzn_words_negative.columns = ['greater']\n",
    "amzn_words_negative = amzn_words_negative[amzn_words_negative['greater'] == True]\n",
    "amzn_words_negative = amzn_words_negative.index.values\n",
    "\n",
    "#do same but from positive angle\n",
    "amzn_words_positive = pd.DataFrame(count_joined['positive_prob'] > count_joined['negative_prob'])\n",
    "amzn_words_positive.columns = ['greater']\n",
    "amzn_words_positive = amzn_words_positive[amzn_words_positive['greater'] == True]\n",
    "amzn_words_positive = amzn_words_positive.index.values"
   ]
  },
  {
   "cell_type": "code",
   "execution_count": 6,
   "metadata": {},
   "outputs": [
    {
     "name": "stdout",
     "output_type": "stream",
     "text": [
      "Number of mislabeled points out of a total 1000 points: 332\n"
     ]
    }
   ],
   "source": [
    "#run naive bayes classifier\n",
    "for word in amzn_words_negative:\n",
    "    amazon[str(word)] = amazon.text.str.contains(' ' + str(word) + ' ')\n",
    "    \n",
    "amzn_data_neg = amazon[amzn_words_negative]\n",
    "amzn_target = amazon['negative']\n",
    "\n",
    "from sklearn.naive_bayes import BernoulliNB\n",
    "\n",
    "bnb = BernoulliNB()\n",
    "bnb.fit(amzn_data_neg, amzn_target)\n",
    "amzn_pred_neg = bnb.predict(amzn_data_neg)\n",
    "\n",
    "print('Number of mislabeled points out of a total {} points: {}'\n",
    "      .format(amzn_data_neg.shape[0],(amzn_target != amzn_pred_neg).sum()))"
   ]
  },
  {
   "cell_type": "code",
   "execution_count": 8,
   "metadata": {},
   "outputs": [
    {
     "name": "stdout",
     "output_type": "stream",
     "text": [
      "With 20% Holdout: 0.63\n",
      "Testing on Sample: 0.668\n"
     ]
    }
   ],
   "source": [
    "#test with different holdout groups\n",
    "from sklearn.model_selection import train_test_split\n",
    "X_train, X_test, y_train, y_test = train_test_split(amzn_data_neg, amzn_target, test_size=0.2, random_state=20)\n",
    "print('With 20% Holdout: ' + str(bnb.fit(X_train, y_train).score(X_test, y_test)))\n",
    "print('Testing on Sample: ' + str(bnb.fit(amzn_data_neg, amzn_target).score(amzn_data_neg, amzn_target)))"
   ]
  },
  {
   "cell_type": "code",
   "execution_count": 9,
   "metadata": {},
   "outputs": [
    {
     "data": {
      "text/plain": [
       "array([0.7 , 0.58, 0.59, 0.61, 0.62, 0.49, 0.62, 0.6 , 0.56, 0.57])"
      ]
     },
     "execution_count": 9,
     "metadata": {},
     "output_type": "execute_result"
    }
   ],
   "source": [
    "#perform cross validation\n",
    "from sklearn.model_selection import cross_val_score\n",
    "cross_val_score(bnb, amzn_data_neg, amzn_target, cv=10)"
   ]
  },
  {
   "cell_type": "code",
   "execution_count": 14,
   "metadata": {},
   "outputs": [
    {
     "name": "stdout",
     "output_type": "stream",
     "text": [
      "Number of mislabeled points out of a total 1000 points: 343\n"
     ]
    }
   ],
   "source": [
    "#run it again with positive words\n",
    "for word in amzn_words_positive:\n",
    "    amazon[str(word)] = amazon.text.str.contains(' ' + str(word) + ' ')\n",
    "\n",
    "amzn_data_pos = amazon[amzn_words_positive]\n",
    "bnb.fit(amzn_data_pos, amzn_target)\n",
    "amzn_pred_pos = bnb.predict(amzn_data_pos)\n",
    "\n",
    "print('Number of mislabeled points out of a total {} points: {}'\n",
    "      .format(amzn_data_pos.shape[0],(amzn_target != amzn_pred_pos).sum()))"
   ]
  },
  {
   "cell_type": "code",
   "execution_count": 15,
   "metadata": {},
   "outputs": [
    {
     "name": "stdout",
     "output_type": "stream",
     "text": [
      "With 20% Holdout: 0.605\n",
      "Testing on Sample: 0.657\n"
     ]
    }
   ],
   "source": [
    "#test with holdout group\n",
    "X_train, X_test, y_train, y_test = train_test_split(amzn_data_pos, amzn_target, test_size=0.2, random_state=20)\n",
    "print('With 20% Holdout: ' + str(bnb.fit(X_train, y_train).score(X_test, y_test)))\n",
    "print('Testing on Sample: ' + str(bnb.fit(amzn_data_pos, amzn_target).score(amzn_data_pos, amzn_target)))"
   ]
  },
  {
   "cell_type": "code",
   "execution_count": 16,
   "metadata": {},
   "outputs": [
    {
     "data": {
      "text/plain": [
       "array([0.65, 0.55, 0.61, 0.53, 0.57, 0.54, 0.63, 0.62, 0.61, 0.63])"
      ]
     },
     "execution_count": 16,
     "metadata": {},
     "output_type": "execute_result"
    }
   ],
   "source": [
    "#cross validate\n",
    "cross_val_score(bnb, amzn_data_pos, amzn_target, cv=10)"
   ]
  },
  {
   "cell_type": "code",
   "execution_count": null,
   "metadata": {},
   "outputs": [],
   "source": []
  }
 ],
 "metadata": {
  "kernelspec": {
   "display_name": "Python 3",
   "language": "python",
   "name": "python3"
  },
  "language_info": {
   "codemirror_mode": {
    "name": "ipython",
    "version": 3
   },
   "file_extension": ".py",
   "mimetype": "text/x-python",
   "name": "python",
   "nbconvert_exporter": "python",
   "pygments_lexer": "ipython3",
   "version": "3.6.4"
  }
 },
 "nbformat": 4,
 "nbformat_minor": 2
}
