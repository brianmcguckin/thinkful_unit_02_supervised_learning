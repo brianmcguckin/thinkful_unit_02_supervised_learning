{
 "cells": [
  {
   "cell_type": "code",
   "execution_count": 1,
   "metadata": {},
   "outputs": [],
   "source": [
    "import numpy as np\n",
    "import pandas as pd\n",
    "import scipy\n",
    "import sklearn\n",
    "import matplotlib.pyplot as plt\n",
    "import seaborn as sns\n",
    "%matplotlib inline"
   ]
  },
  {
   "cell_type": "markdown",
   "metadata": {},
   "source": [
    "## Amazon data"
   ]
  },
  {
   "cell_type": "code",
   "execution_count": 2,
   "metadata": {},
   "outputs": [
    {
     "name": "stdout",
     "output_type": "stream",
     "text": [
      "Number of mislabeled points out of a total 1000 points: 272\n"
     ]
    }
   ],
   "source": [
    "amazon = pd.read_table('amazon_cells_labelled.txt', header=None)\n",
    "amazon.columns = ['text', 'score']\n",
    "\n",
    "keywords = [line.rstrip() for line in open('positive-words.txt')]\n",
    "\n",
    "for key in keywords:\n",
    "    amazon[str(key)] = amazon.text.str.contains(' '+str(key)+' ', case=False)\n",
    "    \n",
    "#set score column into a boolean\n",
    "amazon['score'] = (amazon['score'] == 1)\n",
    "\n",
    "data = amazon[keywords]\n",
    "target = amazon['score']\n",
    "\n",
    "from sklearn.naive_bayes import BernoulliNB\n",
    "\n",
    "bnb = BernoulliNB()\n",
    "bnb.fit(data, target)\n",
    "y_pred = bnb.predict(data)\n",
    "\n",
    "print('Number of mislabeled points out of a total {} points: {}'.format(data.shape[0],(target != y_pred).sum()))"
   ]
  },
  {
   "cell_type": "code",
   "execution_count": 3,
   "metadata": {},
   "outputs": [
    {
     "data": {
      "text/plain": [
       "array([0.71, 0.67, 0.69, 0.68, 0.72, 0.64, 0.71, 0.65, 0.7 , 0.65])"
      ]
     },
     "execution_count": 3,
     "metadata": {},
     "output_type": "execute_result"
    }
   ],
   "source": [
    "#check for overfitting\n",
    "from sklearn.model_selection import cross_val_score\n",
    "cross_val_score(bnb, data, target, cv=10)"
   ]
  },
  {
   "cell_type": "markdown",
   "metadata": {},
   "source": [
    "## IMDB data"
   ]
  },
  {
   "cell_type": "code",
   "execution_count": 4,
   "metadata": {},
   "outputs": [
    {
     "name": "stdout",
     "output_type": "stream",
     "text": [
      "Number of mislabeled points out of a total 748 points: 197\n"
     ]
    }
   ],
   "source": [
    "imdb = pd.read_table('imdb_labelled.txt', header=None)\n",
    "imdb.columns = ['text', 'score']\n",
    "\n",
    "for key in keywords:\n",
    "    imdb[str(key)] = imdb.text.str.contains(' '+str(key)+' ', case=False)\n",
    "\n",
    "imdb['score'] = (imdb['score'] == 1)\n",
    "\n",
    "data_imdb = imdb[keywords]\n",
    "target_imdb = imdb['score']\n",
    "\n",
    "bnb.fit(data_imdb, target_imdb)\n",
    "y_pred_imdb = bnb.predict(data_imdb)\n",
    "\n",
    "print('Number of mislabeled points out of a total {} points: {}'\n",
    "      .format(data_imdb.shape[0],(target_imdb != y_pred_imdb).sum()))"
   ]
  },
  {
   "cell_type": "code",
   "execution_count": 5,
   "metadata": {},
   "outputs": [
    {
     "data": {
      "text/plain": [
       "array([0.64473684, 0.60526316, 0.68      , 0.58666667, 0.72      ,\n",
       "       0.6       , 0.7027027 , 0.63513514, 0.51351351, 0.67567568])"
      ]
     },
     "execution_count": 5,
     "metadata": {},
     "output_type": "execute_result"
    }
   ],
   "source": [
    "cross_val_score(bnb, data_imdb, target_imdb, cv=10)"
   ]
  },
  {
   "cell_type": "markdown",
   "metadata": {},
   "source": [
    "## Yelp data"
   ]
  },
  {
   "cell_type": "code",
   "execution_count": 6,
   "metadata": {},
   "outputs": [
    {
     "name": "stdout",
     "output_type": "stream",
     "text": [
      "Number of mislabeled points out of a total 1000 points: 278\n"
     ]
    }
   ],
   "source": [
    "yelp = pd.read_table('yelp_labelled.txt', header=None)\n",
    "yelp.columns = ['text', 'score']\n",
    "\n",
    "for key in keywords:\n",
    "    yelp[str(key)] = yelp.text.str.contains(' '+str(key)+' ', case=False)\n",
    "\n",
    "yelp['score'] = (yelp['score'] == 1)\n",
    "\n",
    "data_yelp = yelp[keywords]\n",
    "target_yelp = yelp['score']\n",
    "\n",
    "bnb.fit(data_yelp, target_yelp)\n",
    "y_pred_yelp = bnb.predict(data_yelp)\n",
    "\n",
    "print('Number of mislabeled points out of a total {} points: {}'\n",
    "      .format(data_yelp.shape[0],(target_yelp != y_pred_yelp).sum()))"
   ]
  },
  {
   "cell_type": "code",
   "execution_count": 7,
   "metadata": {},
   "outputs": [
    {
     "data": {
      "text/plain": [
       "array([0.67, 0.67, 0.67, 0.67, 0.69, 0.65, 0.75, 0.67, 0.63, 0.73])"
      ]
     },
     "execution_count": 7,
     "metadata": {},
     "output_type": "execute_result"
    }
   ],
   "source": [
    "cross_val_score(bnb, data_yelp, target_yelp, cv=10)"
   ]
  },
  {
   "cell_type": "markdown",
   "metadata": {},
   "source": [
    "## Conclusion\n",
    "\n",
    "Models may be overfitting to a small degree"
   ]
  },
  {
   "cell_type": "code",
   "execution_count": null,
   "metadata": {},
   "outputs": [],
   "source": []
  }
 ],
 "metadata": {
  "kernelspec": {
   "display_name": "Python 3",
   "language": "python",
   "name": "python3"
  },
  "language_info": {
   "codemirror_mode": {
    "name": "ipython",
    "version": 3
   },
   "file_extension": ".py",
   "mimetype": "text/x-python",
   "name": "python",
   "nbconvert_exporter": "python",
   "pygments_lexer": "ipython3",
   "version": "3.6.4"
  }
 },
 "nbformat": 4,
 "nbformat_minor": 2
}
