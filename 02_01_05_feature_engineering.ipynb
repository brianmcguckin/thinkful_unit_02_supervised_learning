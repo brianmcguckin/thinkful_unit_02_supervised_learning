{
 "cells": [
  {
   "cell_type": "markdown",
   "metadata": {},
   "source": [
    "__Data description:__ https://thinkful-ed.github.io/data-201-resources/ESS_practice_data/ESS_codebook.html"
   ]
  },
  {
   "cell_type": "code",
   "execution_count": 1,
   "metadata": {},
   "outputs": [],
   "source": [
    "import pandas as pd\n",
    "import numpy as np\n",
    "import matplotlib.pyplot as plt\n",
    "import seaborn as sns\n",
    "import scipy.stats as stats\n",
    "%matplotlib inline"
   ]
  },
  {
   "cell_type": "code",
   "execution_count": 3,
   "metadata": {},
   "outputs": [
    {
     "name": "stdout",
     "output_type": "stream",
     "text": [
      "  cntry  idno  year  tvtot  ppltrst  pplfair  pplhlp  happy  sclmeet  sclact  \\\n",
      "0    CH   5.0     6    3.0      3.0     10.0     5.0    8.0      5.0     4.0   \n",
      "1    CH  25.0     6    6.0      5.0      7.0     5.0    9.0      3.0     2.0   \n",
      "2    CH  26.0     6    1.0      8.0      8.0     8.0    7.0      6.0     3.0   \n",
      "3    CH  28.0     6    4.0      6.0      6.0     7.0   10.0      6.0     2.0   \n",
      "4    CH  29.0     6    5.0      6.0      7.0     5.0    8.0      7.0     2.0   \n",
      "\n",
      "   gndr  agea  partner  \n",
      "0   2.0  60.0      1.0  \n",
      "1   2.0  59.0      1.0  \n",
      "2   1.0  24.0      2.0  \n",
      "3   2.0  64.0      1.0  \n",
      "4   2.0  55.0      1.0  \n",
      "['CH' 'CZ' 'DE' 'ES' 'NO' 'SE']\n"
     ]
    }
   ],
   "source": [
    "sns.set_style('darkgrid')\n",
    "\n",
    "PATH = \"https://raw.githubusercontent.com/Thinkful-Ed/data-201-resources/master/ESS_practice_data/ESSdata_Thinkful.csv\"\n",
    "df = pd.read_csv(PATH)\n",
    "\n",
    "print(df.head())\n",
    "print(df.cntry.unique())"
   ]
  },
  {
   "cell_type": "markdown",
   "metadata": {},
   "source": [
    "## Fun with categorical variables"
   ]
  },
  {
   "cell_type": "code",
   "execution_count": 4,
   "metadata": {},
   "outputs": [
    {
     "name": "stdout",
     "output_type": "stream",
     "text": [
      "cntry     CH    CZ  DE    ES    NO    SE\n",
      "Nordic                                  \n",
      "0       1546  1316  28  2426     0     0\n",
      "1          0     0   0     0  1462  1816\n"
     ]
    }
   ],
   "source": [
    "#making dummies & creating df to hold features\n",
    "features = pd.get_dummies(df['cntry'])\n",
    "\n",
    "#Nordic countries dummy\n",
    "features['Nordic'] = np.where((df['cntry'].isin(['NO','SE',])), 1, 0)\n",
    "\n",
    "print(pd.crosstab(features['Nordic'], df['cntry']))"
   ]
  },
  {
   "cell_type": "markdown",
   "metadata": {},
   "source": [
    "## Changing variable types"
   ]
  },
  {
   "cell_type": "code",
   "execution_count": 6,
   "metadata": {},
   "outputs": [
    {
     "name": "stdout",
     "output_type": "stream",
     "text": [
      "               count       mean        std   min   25%   50%   75%    max\n",
      "Adult_65plus                                                             \n",
      "0             6682.0  40.874738  13.958596  15.0  29.0  42.0  53.0   64.0\n",
      "1             1673.0  73.815302   6.650086  65.0  69.0  72.0  78.0  114.0\n"
     ]
    }
   ],
   "source": [
    "features['Adult_65plus'] = np.where(df['agea']>=65, 1, 0)\n",
    "\n",
    "#check to make sure it worked\n",
    "print(df['agea'].groupby(features['Adult_65plus']).describe())"
   ]
  },
  {
   "cell_type": "markdown",
   "metadata": {},
   "source": [
    "## Drill\n",
    "\n",
    "Categorize each of the variables in the ESS dataset as categorical or continuous, and if continuous as ordinal, interval, or ratio variables\n",
    "\n",
    "cntry - categorical\n",
    "\n",
    "idno - continuous interval\n",
    "\n",
    "year - categorical\n",
    "\n",
    "tvtot - categorical\n",
    "\n",
    "ppltrst - categorical\n",
    "\n",
    "pplfair - categorical\n",
    "\n",
    "pplhlp - categorical\n",
    "\n",
    "happy - categorical\n",
    "\n",
    "sclmeet - categorical\n",
    "\n",
    "sclact - categorical\n",
    "\n",
    "gndr - categorical\n",
    "\n",
    "agea - continuous ratio\n",
    "\n",
    "partner - categorical\n"
   ]
  },
  {
   "cell_type": "markdown",
   "metadata": {},
   "source": [
    "## Combining two or more highly-correlated variables"
   ]
  },
  {
   "cell_type": "code",
   "execution_count": 12,
   "metadata": {
    "scrolled": false
   },
   "outputs": [
    {
     "data": {
      "image/png": "[encoded data removed]",
      "text/plain": [
       "<matplotlib.figure.Figure at 0x10e339d68>"
      ]
     },
     "metadata": {},
     "output_type": "display_data"
    },
    {
     "name": "stdout",
     "output_type": "stream",
     "text": [
      "                  ppltrst   pplfair    pplhlp  trust_fair_help\n",
      "ppltrst          1.000000  0.592001  0.462562         0.834209\n",
      "pplfair          0.592001  1.000000  0.480918         0.841674\n",
      "pplhlp           0.462562  0.480918  1.000000         0.789318\n",
      "trust_fair_help  0.834209  0.841674  0.789318         1.000000\n"
     ]
    }
   ],
   "source": [
    "corrmat = df.corr()\n",
    "\n",
    "f, ax = plt.subplots(figsize=(12, 9))\n",
    "\n",
    "sns.heatmap(corrmat, vmax=.8, square=True)\n",
    "plt.show()\n",
    "\n",
    "#pplfair, ppltrst, pplhlp are closely correlated (redundant) -> average them\n",
    "#To handle variables on different scales ie on is 0 to 100, another is 0 to 7\n",
    "    #scale them by subtracting the average of each variable from all values in that\n",
    "    #variable and divide by standard deviation\n",
    "\n",
    "means = df[['ppltrst','pplfair','pplhlp']].mean(axis=0)\n",
    "stds = df[['ppltrst','pplfair','pplhlp']].std(axis=0)\n",
    "features['trust_fair_help'] = ((df[['ppltrst','pplfair','pplhlp']] - means) / stds).mean(axis=1)\n",
    "\n",
    "#check how well the composite correlates with each of the individual variables\n",
    "plotdf = df.loc[:, ['ppltrst','pplfair','pplhlp']]\n",
    "plotdf['trust_fair_help'] = features['trust_fair_help']\n",
    "corrmat2 = plotdf.corr()\n",
    "\n",
    "print(corrmat2)"
   ]
  },
  {
   "cell_type": "code",
   "execution_count": null,
   "metadata": {},
   "outputs": [],
   "source": []
  }
 ],
 "metadata": {
  "kernelspec": {
   "display_name": "Python 3",
   "language": "python",
   "name": "python3"
  },
  "language_info": {
   "codemirror_mode": {
    "name": "ipython",
    "version": 3
   },
   "file_extension": ".py",
   "mimetype": "text/x-python",
   "name": "python",
   "nbconvert_exporter": "python",
   "pygments_lexer": "ipython3",
   "version": "3.6.4"
  }
 },
 "nbformat": 4,
 "nbformat_minor": 2
}
