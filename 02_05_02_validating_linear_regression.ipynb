{
 "cells": [
  {
   "cell_type": "code",
   "execution_count": 1,
   "metadata": {},
   "outputs": [],
   "source": [
    "import math\n",
    "import warnings\n",
    "\n",
    "from IPython.display import display\n",
    "from matplotlib import pyplot as plt\n",
    "import numpy as np\n",
    "import pandas as pd\n",
    "import seaborn as sns\n",
    "from sklearn import linear_model\n",
    "import statsmodels.formula.api as smf\n",
    "from statsmodels.sandbox.regression.predstd import wls_prediction_std\n",
    "\n",
    "# Display preferences.\n",
    "%matplotlib inline\n",
    "pd.options.display.float_format = '{:.3f}'.format\n",
    "\n",
    "# Suppress annoying harmless error.\n",
    "warnings.filterwarnings(\n",
    "    action=\"ignore\",\n",
    "    module=\"scipy\",\n",
    "    message=\"^internal gelsd\"\n",
    ")"
   ]
  },
  {
   "cell_type": "markdown",
   "metadata": {},
   "source": [
    "## Original Dataset"
   ]
  },
  {
   "cell_type": "code",
   "execution_count": 110,
   "metadata": {},
   "outputs": [
    {
     "data": {
      "text/html": [
       "<div>\n",
       "<style scoped>\n",
       "    .dataframe tbody tr th:only-of-type {\n",
       "        vertical-align: middle;\n",
       "    }\n",
       "\n",
       "    .dataframe tbody tr th {\n",
       "        vertical-align: top;\n",
       "    }\n",
       "\n",
       "    .dataframe thead th {\n",
       "        text-align: right;\n",
       "    }\n",
       "</style>\n",
       "<table border=\"1\" class=\"dataframe\">\n",
       "  <thead>\n",
       "    <tr style=\"text-align: right;\">\n",
       "      <th></th>\n",
       "      <th>city</th>\n",
       "      <th>population</th>\n",
       "      <th>population_sq</th>\n",
       "      <th>murder</th>\n",
       "      <th>robbery</th>\n",
       "      <th>property_crime</th>\n",
       "      <th>burglary</th>\n",
       "      <th>motor_vehicle_theft</th>\n",
       "      <th>rape_def_2</th>\n",
       "    </tr>\n",
       "  </thead>\n",
       "  <tbody>\n",
       "    <tr>\n",
       "      <th>0</th>\n",
       "      <td>Adams Village</td>\n",
       "      <td>1861</td>\n",
       "      <td>3463321</td>\n",
       "      <td>0</td>\n",
       "      <td>0</td>\n",
       "      <td>12</td>\n",
       "      <td>1</td>\n",
       "      <td>0</td>\n",
       "      <td>0</td>\n",
       "    </tr>\n",
       "    <tr>\n",
       "      <th>1</th>\n",
       "      <td>Addison Town and Village</td>\n",
       "      <td>2577</td>\n",
       "      <td>6640929</td>\n",
       "      <td>0</td>\n",
       "      <td>0</td>\n",
       "      <td>24</td>\n",
       "      <td>1</td>\n",
       "      <td>1</td>\n",
       "      <td>0</td>\n",
       "    </tr>\n",
       "    <tr>\n",
       "      <th>2</th>\n",
       "      <td>Akron Village</td>\n",
       "      <td>2846</td>\n",
       "      <td>8099716</td>\n",
       "      <td>0</td>\n",
       "      <td>0</td>\n",
       "      <td>16</td>\n",
       "      <td>1</td>\n",
       "      <td>0</td>\n",
       "      <td>0</td>\n",
       "    </tr>\n",
       "    <tr>\n",
       "      <th>3</th>\n",
       "      <td>Albany</td>\n",
       "      <td>97956</td>\n",
       "      <td>9595377936</td>\n",
       "      <td>1</td>\n",
       "      <td>1</td>\n",
       "      <td>4090</td>\n",
       "      <td>1</td>\n",
       "      <td>1</td>\n",
       "      <td>1</td>\n",
       "    </tr>\n",
       "    <tr>\n",
       "      <th>4</th>\n",
       "      <td>Albion Village</td>\n",
       "      <td>6388</td>\n",
       "      <td>40806544</td>\n",
       "      <td>0</td>\n",
       "      <td>1</td>\n",
       "      <td>223</td>\n",
       "      <td>1</td>\n",
       "      <td>1</td>\n",
       "      <td>1</td>\n",
       "    </tr>\n",
       "  </tbody>\n",
       "</table>\n",
       "</div>"
      ],
      "text/plain": [
       "                       city  population  population_sq  murder  robbery  \\\n",
       "0             Adams Village        1861        3463321       0        0   \n",
       "1  Addison Town and Village        2577        6640929       0        0   \n",
       "2             Akron Village        2846        8099716       0        0   \n",
       "3                    Albany       97956     9595377936       1        1   \n",
       "4            Albion Village        6388       40806544       0        1   \n",
       "\n",
       "   property_crime  burglary  motor_vehicle_theft  rape_def_2  \n",
       "0              12         1                    0           0  \n",
       "1              24         1                    1           0  \n",
       "2              16         1                    0           0  \n",
       "3            4090         1                    1           1  \n",
       "4             223         1                    1           1  "
      ]
     },
     "execution_count": 110,
     "metadata": {},
     "output_type": "execute_result"
    }
   ],
   "source": [
    "raw_data = pd.read_csv('https://raw.githubusercontent.com/Thinkful-Ed/data-201-resources/master/New_York_offenses/NEW_YORK-Offenses_Known_to_Law_Enforcement_by_City_2013%20-%2013tbl8ny.csv',\n",
    "                      skiprows=[0,1,2,3])\n",
    "raw_data.columns =['city',\n",
    "                   'population',\n",
    "                   'violent_crime',\n",
    "                   'murder',\n",
    "                   'rape_def_1',\n",
    "                   'rape_def_2',\n",
    "                  'robbery',\n",
    "                  'aggravated_assault',\n",
    "                  'property_crime',\n",
    "                  'burglary',\n",
    "                  'larceny_theft',\n",
    "                  'motor_vehicle_theft',\n",
    "                  'arson']\n",
    "\n",
    "#set dataframe\n",
    "df = raw_data[['city', 'population']].copy()\n",
    "\n",
    "#get population^2 variable\n",
    "df = df.dropna(axis=0, subset=['population']) #drop nan values\n",
    "df['population'] = df['population'].str.replace(',', '') #get rid of commas\n",
    "df['population'] = df['population'].astype(str).astype(int) #from object cast to string then int\n",
    "df['population_sq'] = df['population'] ** 2 #square column and put in new column\n",
    "\n",
    "#add other desired variables\n",
    "df['murder'], df['robbery'] = raw_data['murder'], raw_data['robbery']\n",
    "df.head()\n",
    "\n",
    "#prepare murder and robbery to be iterated on\n",
    "df['murder'] = df['murder'].astype(int)\n",
    "df['robbery'] = df['robbery'].str.replace(',', '')\n",
    "df['robbery'] = df['robbery'].astype(int)\n",
    "\n",
    "#change values to 0 or 1 for multivariable regression\n",
    "df.loc[df['murder'] > 0, ['murder']] = 1\n",
    "df.loc[df['robbery'] > 0, ['robbery']] = 1\n",
    "\n",
    "#add property crime variable\n",
    "df['property_crime'] = raw_data['property_crime']\n",
    "df['property_crime'] = df['property_crime'].str.replace(',', '') #get rid of commas\n",
    "df['property_crime'] = df['property_crime'].astype(int)\n",
    "\n",
    "#add some more variables for new regression\n",
    "df['burglary'] = raw_data['burglary'].str.replace(',','')\n",
    "df['burglary'] = df['burglary'].astype(int)\n",
    "df.loc[df['burglary'] > 0, ['burglary']] = 1\n",
    "\n",
    "df['motor_vehicle_theft'] = raw_data['motor_vehicle_theft'].str.replace(',','')\n",
    "df['motor_vehicle_theft'] = df['motor_vehicle_theft'].astype(int)\n",
    "df.loc[df['motor_vehicle_theft'] > 0, ['motor_vehicle_theft']] = 1\n",
    "\n",
    "df['rape_def_2'] = raw_data['rape_def_2'].str.replace(',','')\n",
    "df['rape_def_2'] = df['rape_def_2'].astype(int)\n",
    "df.loc[df['rape_def_2'] > 0, ['rape_def_2']] = 1\n",
    "\n",
    "df.head()"
   ]
  },
  {
   "cell_type": "code",
   "execution_count": 143,
   "metadata": {},
   "outputs": [
    {
     "name": "stdout",
     "output_type": "stream",
     "text": [
      "\n",
      "Coefficients: \n",
      " [[1.68695732e-02 5.63583047e+02 1.69854957e+02]]\n",
      "\n",
      "Intercept: \n",
      " [-32.45134063]\n",
      "\n",
      "R-squared:\n",
      "0.9935083799278801\n"
     ]
    },
    {
     "data": {
      "text/html": [
       "<div>\n",
       "<style scoped>\n",
       "    .dataframe tbody tr th:only-of-type {\n",
       "        vertical-align: middle;\n",
       "    }\n",
       "\n",
       "    .dataframe tbody tr th {\n",
       "        vertical-align: top;\n",
       "    }\n",
       "\n",
       "    .dataframe thead th {\n",
       "        text-align: right;\n",
       "    }\n",
       "</style>\n",
       "<table border=\"1\" class=\"dataframe\">\n",
       "  <thead>\n",
       "    <tr style=\"text-align: right;\">\n",
       "      <th></th>\n",
       "      <th>population</th>\n",
       "      <th>murder</th>\n",
       "      <th>rape_def_2</th>\n",
       "    </tr>\n",
       "  </thead>\n",
       "  <tbody>\n",
       "    <tr>\n",
       "      <th>population</th>\n",
       "      <td>1.000</td>\n",
       "      <td>0.162</td>\n",
       "      <td>0.087</td>\n",
       "    </tr>\n",
       "    <tr>\n",
       "      <th>murder</th>\n",
       "      <td>0.162</td>\n",
       "      <td>1.000</td>\n",
       "      <td>0.381</td>\n",
       "    </tr>\n",
       "    <tr>\n",
       "      <th>rape_def_2</th>\n",
       "      <td>0.087</td>\n",
       "      <td>0.381</td>\n",
       "      <td>1.000</td>\n",
       "    </tr>\n",
       "  </tbody>\n",
       "</table>\n",
       "</div>"
      ],
      "text/plain": [
       "            population  murder  rape_def_2\n",
       "population       1.000   0.162       0.087\n",
       "murder           0.162   1.000       0.381\n",
       "rape_def_2       0.087   0.381       1.000"
      ]
     },
     "metadata": {},
     "output_type": "display_data"
    }
   ],
   "source": [
    "#use regression that eliminated the population feature\n",
    "\n",
    "regr = linear_model.LinearRegression()\n",
    "Y = df['property_crime'].values.reshape(-1,1)\n",
    "X = df[['population','murder','rape_def_2']]\n",
    "regr.fit(X,Y)\n",
    "\n",
    "#inspect results\n",
    "print('\\nCoefficients: \\n', regr.coef_)\n",
    "print('\\nIntercept: \\n', regr.intercept_)\n",
    "print('\\nR-squared:')\n",
    "print(regr.score(X, Y))\n",
    "\n",
    "correlation_matrix = X.corr()\n",
    "display(correlation_matrix)"
   ]
  },
  {
   "cell_type": "code",
   "execution_count": 142,
   "metadata": {},
   "outputs": [
    {
     "data": {
      "text/plain": [
       "Intercept    -32.451\n",
       "population     0.017\n",
       "murder       563.583\n",
       "rape_def_2   169.855\n",
       "dtype: float64"
      ]
     },
     "execution_count": 142,
     "metadata": {},
     "output_type": "execute_result"
    }
   ],
   "source": [
    "linear_formula = 'property_crime ~ population+murder+rape_def_2'\n",
    "lm = smf.ols(formula=linear_formula, data=df).fit()\n",
    "\n",
    "lm.params"
   ]
  },
  {
   "cell_type": "code",
   "execution_count": 144,
   "metadata": {},
   "outputs": [
    {
     "data": {
      "text/plain": [
       "Intercept    0.456\n",
       "population   0.000\n",
       "murder       0.000\n",
       "rape_def_2   0.021\n",
       "dtype: float64"
      ]
     },
     "execution_count": 144,
     "metadata": {},
     "output_type": "execute_result"
    }
   ],
   "source": [
    "lm.pvalues"
   ]
  },
  {
   "cell_type": "code",
   "execution_count": 145,
   "metadata": {},
   "outputs": [
    {
     "data": {
      "text/plain": [
       "0.9935083799278802"
      ]
     },
     "execution_count": 145,
     "metadata": {},
     "output_type": "execute_result"
    }
   ],
   "source": [
    "lm.rsquared"
   ]
  },
  {
   "cell_type": "code",
   "execution_count": 146,
   "metadata": {
    "scrolled": true
   },
   "outputs": [
    {
     "data": {
      "text/html": [
       "<div>\n",
       "<style scoped>\n",
       "    .dataframe tbody tr th:only-of-type {\n",
       "        vertical-align: middle;\n",
       "    }\n",
       "\n",
       "    .dataframe tbody tr th {\n",
       "        vertical-align: top;\n",
       "    }\n",
       "\n",
       "    .dataframe thead th {\n",
       "        text-align: right;\n",
       "    }\n",
       "</style>\n",
       "<table border=\"1\" class=\"dataframe\">\n",
       "  <thead>\n",
       "    <tr style=\"text-align: right;\">\n",
       "      <th></th>\n",
       "      <th>0</th>\n",
       "      <th>1</th>\n",
       "    </tr>\n",
       "  </thead>\n",
       "  <tbody>\n",
       "    <tr>\n",
       "      <th>Intercept</th>\n",
       "      <td>-118.018</td>\n",
       "      <td>53.115</td>\n",
       "    </tr>\n",
       "    <tr>\n",
       "      <th>population</th>\n",
       "      <td>0.017</td>\n",
       "      <td>0.017</td>\n",
       "    </tr>\n",
       "    <tr>\n",
       "      <th>murder</th>\n",
       "      <td>358.321</td>\n",
       "      <td>768.845</td>\n",
       "    </tr>\n",
       "    <tr>\n",
       "      <th>rape_def_2</th>\n",
       "      <td>26.270</td>\n",
       "      <td>313.440</td>\n",
       "    </tr>\n",
       "  </tbody>\n",
       "</table>\n",
       "</div>"
      ],
      "text/plain": [
       "                  0       1\n",
       "Intercept  -118.018  53.115\n",
       "population    0.017   0.017\n",
       "murder      358.321 768.845\n",
       "rape_def_2   26.270 313.440"
      ]
     },
     "execution_count": 146,
     "metadata": {},
     "output_type": "execute_result"
    }
   ],
   "source": [
    "lm.conf_int()"
   ]
  },
  {
   "cell_type": "code",
   "execution_count": 182,
   "metadata": {
    "scrolled": true
   },
   "outputs": [
    {
     "data": {
      "image/png": "[encoded data removed]",
      "text/plain": [
       "<matplotlib.figure.Figure at 0x1a1cc43400>"
      ]
     },
     "metadata": {},
     "output_type": "display_data"
    }
   ],
   "source": [
    "# Use wls_prediction_std to build confidence intervals\n",
    "prstd, iv_l, iv_u = wls_prediction_std(lm)\n",
    "\n",
    "plt.figure()\n",
    "plt.plot(iv_u[0:30], 'o', color='r')\n",
    "plt.plot(iv_l[0:30], 'o', color='r')\n",
    "plt.plot(lm.fittedvalues[0:30], 'o', color='b')\n",
    "plt.title('blue: predicted, red: 95% CI')\n",
    "plt.show()"
   ]
  },
  {
   "cell_type": "code",
   "execution_count": 150,
   "metadata": {},
   "outputs": [
    {
     "name": "stdout",
     "output_type": "stream",
     "text": [
      "With 20% Holdout: 0.6370699252352712\n",
      "Testing on Sample: 0.9935083799278801\n"
     ]
    }
   ],
   "source": [
    "from sklearn.model_selection import train_test_split\n",
    "X_train, X_test, y_train, y_test = train_test_split(X, Y, test_size=0.2)\n",
    "print('With 20% Holdout: ' + str(regr.fit(X_train, y_train).score(X_test, y_test)))\n",
    "print('Testing on Sample: ' + str(regr.fit(X,Y).score(X,Y)))\n",
    "\n",
    "#from sklearn.model_selection import cross_val_score\n",
    "#cross_val_score(regr, data, target, cv=5)"
   ]
  },
  {
   "cell_type": "markdown",
   "metadata": {},
   "source": [
    "## Test on new datasets"
   ]
  },
  {
   "cell_type": "code",
   "execution_count": 10,
   "metadata": {
    "scrolled": false
   },
   "outputs": [
    {
     "data": {
      "text/html": [
       "<div>\n",
       "<style scoped>\n",
       "    .dataframe tbody tr th:only-of-type {\n",
       "        vertical-align: middle;\n",
       "    }\n",
       "\n",
       "    .dataframe tbody tr th {\n",
       "        vertical-align: top;\n",
       "    }\n",
       "\n",
       "    .dataframe thead th {\n",
       "        text-align: right;\n",
       "    }\n",
       "</style>\n",
       "<table border=\"1\" class=\"dataframe\">\n",
       "  <thead>\n",
       "    <tr style=\"text-align: right;\">\n",
       "      <th></th>\n",
       "      <th>city</th>\n",
       "      <th>population</th>\n",
       "      <th>violent_crime</th>\n",
       "      <th>murder</th>\n",
       "      <th>rape_def_1</th>\n",
       "      <th>rape_def_2</th>\n",
       "      <th>robbery</th>\n",
       "      <th>aggravated_assault</th>\n",
       "      <th>property_crime</th>\n",
       "      <th>burglary</th>\n",
       "      <th>larceny_theft</th>\n",
       "      <th>motor_vehicle_theft</th>\n",
       "      <th>arson</th>\n",
       "    </tr>\n",
       "  </thead>\n",
       "  <tbody>\n",
       "    <tr>\n",
       "      <th>0</th>\n",
       "      <td>Addison</td>\n",
       "      <td>37378.000</td>\n",
       "      <td>40.000</td>\n",
       "      <td>1.000</td>\n",
       "      <td>nan</td>\n",
       "      <td>8.000</td>\n",
       "      <td>5.000</td>\n",
       "      <td>26.000</td>\n",
       "      <td>640.000</td>\n",
       "      <td>97.000</td>\n",
       "      <td>527.000</td>\n",
       "      <td>16.000</td>\n",
       "      <td>5.000</td>\n",
       "    </tr>\n",
       "    <tr>\n",
       "      <th>1</th>\n",
       "      <td>Albany</td>\n",
       "      <td>878.000</td>\n",
       "      <td>0.000</td>\n",
       "      <td>0.000</td>\n",
       "      <td>nan</td>\n",
       "      <td>0.000</td>\n",
       "      <td>0.000</td>\n",
       "      <td>0.000</td>\n",
       "      <td>5.000</td>\n",
       "      <td>0.000</td>\n",
       "      <td>5.000</td>\n",
       "      <td>0.000</td>\n",
       "      <td>0.000</td>\n",
       "    </tr>\n",
       "    <tr>\n",
       "      <th>2</th>\n",
       "      <td>Albers</td>\n",
       "      <td>1187.000</td>\n",
       "      <td>0.000</td>\n",
       "      <td>0.000</td>\n",
       "      <td>nan</td>\n",
       "      <td>0.000</td>\n",
       "      <td>0.000</td>\n",
       "      <td>0.000</td>\n",
       "      <td>0.000</td>\n",
       "      <td>0.000</td>\n",
       "      <td>0.000</td>\n",
       "      <td>0.000</td>\n",
       "      <td>0.000</td>\n",
       "    </tr>\n",
       "    <tr>\n",
       "      <th>3</th>\n",
       "      <td>Albion</td>\n",
       "      <td>1975.000</td>\n",
       "      <td>0.000</td>\n",
       "      <td>0.000</td>\n",
       "      <td>nan</td>\n",
       "      <td>0.000</td>\n",
       "      <td>0.000</td>\n",
       "      <td>0.000</td>\n",
       "      <td>33.000</td>\n",
       "      <td>8.000</td>\n",
       "      <td>22.000</td>\n",
       "      <td>3.000</td>\n",
       "      <td>1.000</td>\n",
       "    </tr>\n",
       "    <tr>\n",
       "      <th>4</th>\n",
       "      <td>Algonquin</td>\n",
       "      <td>29980.000</td>\n",
       "      <td>18.000</td>\n",
       "      <td>0.000</td>\n",
       "      <td>nan</td>\n",
       "      <td>3.000</td>\n",
       "      <td>2.000</td>\n",
       "      <td>13.000</td>\n",
       "      <td>519.000</td>\n",
       "      <td>33.000</td>\n",
       "      <td>475.000</td>\n",
       "      <td>11.000</td>\n",
       "      <td>6.000</td>\n",
       "    </tr>\n",
       "  </tbody>\n",
       "</table>\n",
       "</div>"
      ],
      "text/plain": [
       "        city  population  violent_crime  murder  rape_def_1  rape_def_2  \\\n",
       "0    Addison   37378.000         40.000   1.000         nan       8.000   \n",
       "1     Albany     878.000          0.000   0.000         nan       0.000   \n",
       "2     Albers    1187.000          0.000   0.000         nan       0.000   \n",
       "3     Albion    1975.000          0.000   0.000         nan       0.000   \n",
       "4  Algonquin   29980.000         18.000   0.000         nan       3.000   \n",
       "\n",
       "   robbery  aggravated_assault  property_crime  burglary  larceny_theft  \\\n",
       "0    5.000              26.000         640.000    97.000        527.000   \n",
       "1    0.000               0.000           5.000     0.000          5.000   \n",
       "2    0.000               0.000           0.000     0.000          0.000   \n",
       "3    0.000               0.000          33.000     8.000         22.000   \n",
       "4    2.000              13.000         519.000    33.000        475.000   \n",
       "\n",
       "   motor_vehicle_theft  arson  \n",
       "0               16.000  5.000  \n",
       "1                0.000  0.000  \n",
       "2                0.000  0.000  \n",
       "3                3.000  1.000  \n",
       "4               11.000  6.000  "
      ]
     },
     "execution_count": 10,
     "metadata": {},
     "output_type": "execute_result"
    }
   ],
   "source": [
    "#crime data for Illinois 2013\n",
    "IL_2013_raw = pd.read_excel('table_8_offenses_known_to_law_enforcement_illinois_by_city_2013.xls',\n",
    "                       skiprows=[0,1,2,3])\n",
    "IL_2013_raw.columns =['city',\n",
    "                   'population',\n",
    "                   'violent_crime',\n",
    "                   'murder',\n",
    "                   'rape_def_1',\n",
    "                   'rape_def_2',\n",
    "                  'robbery',\n",
    "                  'aggravated_assault',\n",
    "                  'property_crime',\n",
    "                  'burglary',\n",
    "                  'larceny_theft',\n",
    "                  'motor_vehicle_theft',\n",
    "                  'arson']\n",
    "\n",
    "IL_2013_raw = pd.DataFrame(IL_2013_raw)\n",
    "IL_2013_raw.head()"
   ]
  },
  {
   "cell_type": "code",
   "execution_count": 167,
   "metadata": {
    "scrolled": false
   },
   "outputs": [
    {
     "data": {
      "text/html": [
       "<div>\n",
       "<style scoped>\n",
       "    .dataframe tbody tr th:only-of-type {\n",
       "        vertical-align: middle;\n",
       "    }\n",
       "\n",
       "    .dataframe tbody tr th {\n",
       "        vertical-align: top;\n",
       "    }\n",
       "\n",
       "    .dataframe thead th {\n",
       "        text-align: right;\n",
       "    }\n",
       "</style>\n",
       "<table border=\"1\" class=\"dataframe\">\n",
       "  <thead>\n",
       "    <tr style=\"text-align: right;\">\n",
       "      <th></th>\n",
       "      <th>city</th>\n",
       "      <th>population</th>\n",
       "      <th>population_sq</th>\n",
       "      <th>murder</th>\n",
       "      <th>robbery</th>\n",
       "      <th>property_crime</th>\n",
       "      <th>burglary</th>\n",
       "      <th>rape_def_2</th>\n",
       "    </tr>\n",
       "  </thead>\n",
       "  <tbody>\n",
       "    <tr>\n",
       "      <th>0</th>\n",
       "      <td>Addison</td>\n",
       "      <td>37378.000</td>\n",
       "      <td>1397114884.000</td>\n",
       "      <td>1</td>\n",
       "      <td>1</td>\n",
       "      <td>640</td>\n",
       "      <td>1</td>\n",
       "      <td>1</td>\n",
       "    </tr>\n",
       "    <tr>\n",
       "      <th>1</th>\n",
       "      <td>Albany</td>\n",
       "      <td>878.000</td>\n",
       "      <td>770884.000</td>\n",
       "      <td>0</td>\n",
       "      <td>0</td>\n",
       "      <td>5</td>\n",
       "      <td>0</td>\n",
       "      <td>0</td>\n",
       "    </tr>\n",
       "    <tr>\n",
       "      <th>2</th>\n",
       "      <td>Albers</td>\n",
       "      <td>1187.000</td>\n",
       "      <td>1408969.000</td>\n",
       "      <td>0</td>\n",
       "      <td>0</td>\n",
       "      <td>0</td>\n",
       "      <td>0</td>\n",
       "      <td>0</td>\n",
       "    </tr>\n",
       "    <tr>\n",
       "      <th>3</th>\n",
       "      <td>Albion</td>\n",
       "      <td>1975.000</td>\n",
       "      <td>3900625.000</td>\n",
       "      <td>0</td>\n",
       "      <td>0</td>\n",
       "      <td>33</td>\n",
       "      <td>1</td>\n",
       "      <td>0</td>\n",
       "    </tr>\n",
       "    <tr>\n",
       "      <th>4</th>\n",
       "      <td>Algonquin</td>\n",
       "      <td>29980.000</td>\n",
       "      <td>898800400.000</td>\n",
       "      <td>0</td>\n",
       "      <td>1</td>\n",
       "      <td>519</td>\n",
       "      <td>1</td>\n",
       "      <td>1</td>\n",
       "    </tr>\n",
       "  </tbody>\n",
       "</table>\n",
       "</div>"
      ],
      "text/plain": [
       "        city  population  population_sq  murder  robbery  property_crime  \\\n",
       "0    Addison   37378.000 1397114884.000       1        1             640   \n",
       "1     Albany     878.000     770884.000       0        0               5   \n",
       "2     Albers    1187.000    1408969.000       0        0               0   \n",
       "3     Albion    1975.000    3900625.000       0        0              33   \n",
       "4  Algonquin   29980.000  898800400.000       0        1             519   \n",
       "\n",
       "   burglary  rape_def_2  \n",
       "0         1           1  \n",
       "1         0           0  \n",
       "2         0           0  \n",
       "3         1           0  \n",
       "4         1           1  "
      ]
     },
     "execution_count": 167,
     "metadata": {},
     "output_type": "execute_result"
    }
   ],
   "source": [
    "#prepare dataframe for regression\n",
    "IL_2013 = IL_2013_raw[['city', 'population']].copy()\n",
    "\n",
    "#get population^2 variable\n",
    "IL_2013 = IL_2013.dropna(axis=0, subset=['population']) #drop nan values\n",
    "IL_2013['population_sq'] = IL_2013['population'] ** 2 #square column and put in new column\n",
    "\n",
    "#add other desired variables\n",
    "IL_2013['murder'], IL_2013['robbery'] = IL_2013_raw['murder'], IL_2013_raw['robbery']\n",
    "\n",
    "#prepare murder and robbery to be iterated on\n",
    "IL_2013['murder'] = IL_2013['murder'].astype(int)\n",
    "IL_2013['robbery'] = IL_2013['robbery'].astype(int)\n",
    "\n",
    "#change values to 0 or 1 for multivariable regression\n",
    "IL_2013.loc[IL_2013['murder'] > 0, ['murder']] = 1\n",
    "IL_2013.loc[IL_2013['robbery'] > 0, ['robbery']] = 1\n",
    "\n",
    "#add property crime variable\n",
    "IL_2013['property_crime'] = IL_2013_raw['property_crime']\n",
    "IL_2013['property_crime'] = IL_2013['property_crime'].astype(int)\n",
    "\n",
    "#add some more variables for new regression\n",
    "IL_2013['burglary'] = IL_2013_raw['burglary']\n",
    "IL_2013['burglary'] = IL_2013['burglary'].astype(int)\n",
    "IL_2013.loc[IL_2013['burglary'] > 0, ['burglary']] = 1\n",
    "\n",
    "IL_2013['rape_def_2'] = IL_2013_raw['rape_def_2']\n",
    "IL_2013 = IL_2013.dropna(axis=0, subset=['rape_def_2'])\n",
    "IL_2013['rape_def_2'] = IL_2013['rape_def_2'].astype(int)\n",
    "IL_2013.loc[IL_2013['rape_def_2'] > 0, ['rape_def_2']] = 1\n",
    "\n",
    "IL_2013.head()"
   ]
  },
  {
   "cell_type": "code",
   "execution_count": 168,
   "metadata": {},
   "outputs": [
    {
     "name": "stdout",
     "output_type": "stream",
     "text": [
      "\n",
      "Coefficients: \n",
      " [[1.28001349e-07 2.41141258e+02 2.08014955e+02]]\n",
      "\n",
      "Intercept: \n",
      " [55.95801742]\n",
      "\n",
      "R-squared:\n",
      "0.6047841239458587\n"
     ]
    },
    {
     "data": {
      "text/html": [
       "<div>\n",
       "<style scoped>\n",
       "    .dataframe tbody tr th:only-of-type {\n",
       "        vertical-align: middle;\n",
       "    }\n",
       "\n",
       "    .dataframe tbody tr th {\n",
       "        vertical-align: top;\n",
       "    }\n",
       "\n",
       "    .dataframe thead th {\n",
       "        text-align: right;\n",
       "    }\n",
       "</style>\n",
       "<table border=\"1\" class=\"dataframe\">\n",
       "  <thead>\n",
       "    <tr style=\"text-align: right;\">\n",
       "      <th></th>\n",
       "      <th>population_sq</th>\n",
       "      <th>murder</th>\n",
       "      <th>rape_def_2</th>\n",
       "    </tr>\n",
       "  </thead>\n",
       "  <tbody>\n",
       "    <tr>\n",
       "      <th>population_sq</th>\n",
       "      <td>1.000</td>\n",
       "      <td>0.297</td>\n",
       "      <td>0.209</td>\n",
       "    </tr>\n",
       "    <tr>\n",
       "      <th>murder</th>\n",
       "      <td>0.297</td>\n",
       "      <td>1.000</td>\n",
       "      <td>0.327</td>\n",
       "    </tr>\n",
       "    <tr>\n",
       "      <th>rape_def_2</th>\n",
       "      <td>0.209</td>\n",
       "      <td>0.327</td>\n",
       "      <td>1.000</td>\n",
       "    </tr>\n",
       "  </tbody>\n",
       "</table>\n",
       "</div>"
      ],
      "text/plain": [
       "               population_sq  murder  rape_def_2\n",
       "population_sq          1.000   0.297       0.209\n",
       "murder                 0.297   1.000       0.327\n",
       "rape_def_2             0.209   0.327       1.000"
      ]
     },
     "metadata": {},
     "output_type": "display_data"
    }
   ],
   "source": [
    "#run model\n",
    "IL_regr = IL_2013[['population_sq','murder','robbery','property_crime','rape_def_2']].copy()\n",
    "\n",
    "Y_IL = IL_regr['property_crime'].values.reshape(-1,1)\n",
    "X_IL = IL_regr[['population_sq','murder','rape_def_2']]\n",
    "regr.fit(X_IL,Y_IL)\n",
    "\n",
    "#inspect results\n",
    "print('\\nCoefficients: \\n', regr.coef_)\n",
    "print('\\nIntercept: \\n', regr.intercept_)\n",
    "print('\\nR-squared:')\n",
    "print(regr.score(X_IL, Y_IL))\n",
    "\n",
    "correlation_matrix = X_IL.corr()\n",
    "display(correlation_matrix)"
   ]
  },
  {
   "cell_type": "code",
   "execution_count": 170,
   "metadata": {},
   "outputs": [
    {
     "name": "stdout",
     "output_type": "stream",
     "text": [
      "With 20% Holdout: 0.6095157626524301\n",
      "Testing on Sample: 0.6047841239458587\n"
     ]
    }
   ],
   "source": [
    "X_train, X_test, y_train, y_test = train_test_split(X_IL, Y_IL, test_size=0.2)\n",
    "print('With 20% Holdout: ' + str(regr.fit(X_train, y_train).score(X_test, y_test)))\n",
    "print('Testing on Sample: ' + str(regr.fit(X_IL,Y_IL).score(X_IL, Y_IL)))\n",
    "\n",
    "#cross_val_score(regr,X_IL,Y_IL,cv=5)"
   ]
  },
  {
   "cell_type": "code",
   "execution_count": 171,
   "metadata": {},
   "outputs": [
    {
     "data": {
      "text/plain": [
       "Intercept        55.958\n",
       "population_sq     0.000\n",
       "murder          241.141\n",
       "rape_def_2      208.015\n",
       "dtype: float64"
      ]
     },
     "execution_count": 171,
     "metadata": {},
     "output_type": "execute_result"
    }
   ],
   "source": [
    "linear_formula = 'property_crime ~ population_sq+murder+rape_def_2'\n",
    "lm_IL_2013 = smf.ols(formula=linear_formula, data=IL_regr).fit()\n",
    "\n",
    "lm_IL_2013.params"
   ]
  },
  {
   "cell_type": "code",
   "execution_count": 172,
   "metadata": {},
   "outputs": [
    {
     "data": {
      "text/plain": [
       "Intercept       0.011\n",
       "population_sq   0.000\n",
       "murder          0.000\n",
       "rape_def_2      0.000\n",
       "dtype: float64"
      ]
     },
     "execution_count": 172,
     "metadata": {},
     "output_type": "execute_result"
    }
   ],
   "source": [
    "lm_IL_2013.pvalues"
   ]
  },
  {
   "cell_type": "code",
   "execution_count": 173,
   "metadata": {},
   "outputs": [
    {
     "data": {
      "text/plain": [
       "0.6047841239458587"
      ]
     },
     "execution_count": 173,
     "metadata": {},
     "output_type": "execute_result"
    }
   ],
   "source": [
    "lm_IL_2013.rsquared"
   ]
  },
  {
   "cell_type": "code",
   "execution_count": 17,
   "metadata": {},
   "outputs": [
    {
     "data": {
      "text/html": [
       "<div>\n",
       "<style scoped>\n",
       "    .dataframe tbody tr th:only-of-type {\n",
       "        vertical-align: middle;\n",
       "    }\n",
       "\n",
       "    .dataframe tbody tr th {\n",
       "        vertical-align: top;\n",
       "    }\n",
       "\n",
       "    .dataframe thead th {\n",
       "        text-align: right;\n",
       "    }\n",
       "</style>\n",
       "<table border=\"1\" class=\"dataframe\">\n",
       "  <thead>\n",
       "    <tr style=\"text-align: right;\">\n",
       "      <th></th>\n",
       "      <th>city</th>\n",
       "      <th>population</th>\n",
       "      <th>violent_crime</th>\n",
       "      <th>murder</th>\n",
       "      <th>rape_def_1</th>\n",
       "      <th>rape_def_2</th>\n",
       "      <th>robbery</th>\n",
       "      <th>aggravated_assault</th>\n",
       "      <th>property_crime</th>\n",
       "      <th>burglary</th>\n",
       "      <th>larceny_theft</th>\n",
       "      <th>motor_vehicle_theft</th>\n",
       "      <th>arson</th>\n",
       "    </tr>\n",
       "  </thead>\n",
       "  <tbody>\n",
       "    <tr>\n",
       "      <th>0</th>\n",
       "      <td>Adams Village</td>\n",
       "      <td>1851.000</td>\n",
       "      <td>0.000</td>\n",
       "      <td>0.000</td>\n",
       "      <td>nan</td>\n",
       "      <td>0.000</td>\n",
       "      <td>0.000</td>\n",
       "      <td>0.000</td>\n",
       "      <td>11.000</td>\n",
       "      <td>1.000</td>\n",
       "      <td>10.000</td>\n",
       "      <td>0.000</td>\n",
       "      <td>0.000</td>\n",
       "    </tr>\n",
       "    <tr>\n",
       "      <th>1</th>\n",
       "      <td>Addison Town and Village</td>\n",
       "      <td>2568.000</td>\n",
       "      <td>2.000</td>\n",
       "      <td>0.000</td>\n",
       "      <td>nan</td>\n",
       "      <td>0.000</td>\n",
       "      <td>1.000</td>\n",
       "      <td>1.000</td>\n",
       "      <td>49.000</td>\n",
       "      <td>1.000</td>\n",
       "      <td>47.000</td>\n",
       "      <td>1.000</td>\n",
       "      <td>0.000</td>\n",
       "    </tr>\n",
       "    <tr>\n",
       "      <th>2</th>\n",
       "      <td>Afton Village4</td>\n",
       "      <td>820.000</td>\n",
       "      <td>0.000</td>\n",
       "      <td>0.000</td>\n",
       "      <td>0.000</td>\n",
       "      <td>nan</td>\n",
       "      <td>0.000</td>\n",
       "      <td>0.000</td>\n",
       "      <td>1.000</td>\n",
       "      <td>0.000</td>\n",
       "      <td>1.000</td>\n",
       "      <td>0.000</td>\n",
       "      <td>0.000</td>\n",
       "    </tr>\n",
       "    <tr>\n",
       "      <th>3</th>\n",
       "      <td>Akron Village</td>\n",
       "      <td>2842.000</td>\n",
       "      <td>1.000</td>\n",
       "      <td>0.000</td>\n",
       "      <td>nan</td>\n",
       "      <td>0.000</td>\n",
       "      <td>0.000</td>\n",
       "      <td>1.000</td>\n",
       "      <td>17.000</td>\n",
       "      <td>0.000</td>\n",
       "      <td>17.000</td>\n",
       "      <td>0.000</td>\n",
       "      <td>0.000</td>\n",
       "    </tr>\n",
       "    <tr>\n",
       "      <th>4</th>\n",
       "      <td>Albany4</td>\n",
       "      <td>98595.000</td>\n",
       "      <td>802.000</td>\n",
       "      <td>8.000</td>\n",
       "      <td>54.000</td>\n",
       "      <td>nan</td>\n",
       "      <td>237.000</td>\n",
       "      <td>503.000</td>\n",
       "      <td>3888.000</td>\n",
       "      <td>683.000</td>\n",
       "      <td>3083.000</td>\n",
       "      <td>122.000</td>\n",
       "      <td>12.000</td>\n",
       "    </tr>\n",
       "  </tbody>\n",
       "</table>\n",
       "</div>"
      ],
      "text/plain": [
       "                       city  population  violent_crime  murder  rape_def_1  \\\n",
       "0             Adams Village    1851.000          0.000   0.000         nan   \n",
       "1  Addison Town and Village    2568.000          2.000   0.000         nan   \n",
       "2            Afton Village4     820.000          0.000   0.000       0.000   \n",
       "3             Akron Village    2842.000          1.000   0.000         nan   \n",
       "4                   Albany4   98595.000        802.000   8.000      54.000   \n",
       "\n",
       "   rape_def_2  robbery  aggravated_assault  property_crime  burglary  \\\n",
       "0       0.000    0.000               0.000          11.000     1.000   \n",
       "1       0.000    1.000               1.000          49.000     1.000   \n",
       "2         nan    0.000               0.000           1.000     0.000   \n",
       "3       0.000    0.000               1.000          17.000     0.000   \n",
       "4         nan  237.000             503.000        3888.000   683.000   \n",
       "\n",
       "   larceny_theft  motor_vehicle_theft  arson  \n",
       "0         10.000                0.000  0.000  \n",
       "1         47.000                1.000  0.000  \n",
       "2          1.000                0.000  0.000  \n",
       "3         17.000                0.000  0.000  \n",
       "4       3083.000              122.000 12.000  "
      ]
     },
     "execution_count": 17,
     "metadata": {},
     "output_type": "execute_result"
    }
   ],
   "source": [
    "#crime data for New York 2014\n",
    "NY_2014_raw = pd.read_excel('Table_8_Offenses_Known_to_Law_Enforcement_by_New_York_by_City_2014.xls',\n",
    "                       skiprows=[0,1,2,3])\n",
    "NY_2014_raw.columns =['city',\n",
    "                   'population',\n",
    "                   'violent_crime',\n",
    "                   'murder',\n",
    "                   'rape_def_1',\n",
    "                   'rape_def_2',\n",
    "                  'robbery',\n",
    "                  'aggravated_assault',\n",
    "                  'property_crime',\n",
    "                  'burglary',\n",
    "                  'larceny_theft',\n",
    "                  'motor_vehicle_theft',\n",
    "                  'arson']\n",
    "\n",
    "NY_2014_raw = pd.DataFrame(NY_2014_raw)\n",
    "NY_2014_raw.head()"
   ]
  },
  {
   "cell_type": "code",
   "execution_count": 175,
   "metadata": {},
   "outputs": [
    {
     "data": {
      "text/html": [
       "<div>\n",
       "<style scoped>\n",
       "    .dataframe tbody tr th:only-of-type {\n",
       "        vertical-align: middle;\n",
       "    }\n",
       "\n",
       "    .dataframe tbody tr th {\n",
       "        vertical-align: top;\n",
       "    }\n",
       "\n",
       "    .dataframe thead th {\n",
       "        text-align: right;\n",
       "    }\n",
       "</style>\n",
       "<table border=\"1\" class=\"dataframe\">\n",
       "  <thead>\n",
       "    <tr style=\"text-align: right;\">\n",
       "      <th></th>\n",
       "      <th>city</th>\n",
       "      <th>population</th>\n",
       "      <th>population_sq</th>\n",
       "      <th>murder</th>\n",
       "      <th>robbery</th>\n",
       "      <th>property_crime</th>\n",
       "      <th>rape_def_2</th>\n",
       "    </tr>\n",
       "  </thead>\n",
       "  <tbody>\n",
       "    <tr>\n",
       "      <th>0</th>\n",
       "      <td>Adams Village</td>\n",
       "      <td>1851.000</td>\n",
       "      <td>3426201.000</td>\n",
       "      <td>0</td>\n",
       "      <td>0</td>\n",
       "      <td>11</td>\n",
       "      <td>0</td>\n",
       "    </tr>\n",
       "    <tr>\n",
       "      <th>1</th>\n",
       "      <td>Addison Town and Village</td>\n",
       "      <td>2568.000</td>\n",
       "      <td>6594624.000</td>\n",
       "      <td>0</td>\n",
       "      <td>1</td>\n",
       "      <td>49</td>\n",
       "      <td>0</td>\n",
       "    </tr>\n",
       "    <tr>\n",
       "      <th>3</th>\n",
       "      <td>Akron Village</td>\n",
       "      <td>2842.000</td>\n",
       "      <td>8076964.000</td>\n",
       "      <td>0</td>\n",
       "      <td>0</td>\n",
       "      <td>17</td>\n",
       "      <td>0</td>\n",
       "    </tr>\n",
       "    <tr>\n",
       "      <th>11</th>\n",
       "      <td>Amityville Village</td>\n",
       "      <td>9509.000</td>\n",
       "      <td>90421081.000</td>\n",
       "      <td>0</td>\n",
       "      <td>1</td>\n",
       "      <td>198</td>\n",
       "      <td>0</td>\n",
       "    </tr>\n",
       "    <tr>\n",
       "      <th>12</th>\n",
       "      <td>Amsterdam</td>\n",
       "      <td>18099.000</td>\n",
       "      <td>327573801.000</td>\n",
       "      <td>0</td>\n",
       "      <td>1</td>\n",
       "      <td>490</td>\n",
       "      <td>0</td>\n",
       "    </tr>\n",
       "  </tbody>\n",
       "</table>\n",
       "</div>"
      ],
      "text/plain": [
       "                        city  population  population_sq  murder  robbery  \\\n",
       "0              Adams Village    1851.000    3426201.000       0        0   \n",
       "1   Addison Town and Village    2568.000    6594624.000       0        1   \n",
       "3              Akron Village    2842.000    8076964.000       0        0   \n",
       "11        Amityville Village    9509.000   90421081.000       0        1   \n",
       "12                 Amsterdam   18099.000  327573801.000       0        1   \n",
       "\n",
       "    property_crime  rape_def_2  \n",
       "0               11           0  \n",
       "1               49           0  \n",
       "3               17           0  \n",
       "11             198           0  \n",
       "12             490           0  "
      ]
     },
     "execution_count": 175,
     "metadata": {},
     "output_type": "execute_result"
    }
   ],
   "source": [
    "#prepare dataframe for regression. this time leaving murder & robbery in their true values\n",
    "NY_2014 = NY_2014_raw[['city', 'population']].copy()\n",
    "\n",
    "#get population^2 variable\n",
    "NY_2014 = NY_2014.dropna(axis=0, subset=['population']) #drop nan values\n",
    "NY_2014['population_sq'] = NY_2014['population'] ** 2 #square column and put in new column\n",
    "\n",
    "#add other desired variables\n",
    "NY_2014['murder'], NY_2014['robbery'] = NY_2014_raw['murder'], NY_2014_raw['robbery']\n",
    "\n",
    "#prepare murder and robbery to be iterated on\n",
    "NY_2014['murder'] = NY_2014['murder'].astype(int)\n",
    "NY_2014['robbery'] = NY_2014['robbery'].astype(int)\n",
    "\n",
    "#change values to 0 or 1 for multivariable regression\n",
    "NY_2014.loc[NY_2014['murder'] > 0, ['murder']] = 1\n",
    "NY_2014.loc[NY_2014['robbery'] > 0, ['robbery']] = 1\n",
    "\n",
    "#add property crime variable\n",
    "NY_2014['property_crime'] = NY_2014_raw['property_crime']\n",
    "NY_2014 = NY_2014.dropna(axis=0, subset=['property_crime'])\n",
    "NY_2014['property_crime'] = NY_2014['property_crime'].astype(int)\n",
    "\n",
    "NY_2014['rape_def_2'] = NY_2014_raw['rape_def_2']\n",
    "NY_2014 = NY_2014.dropna(axis=0, subset=['rape_def_2'])\n",
    "NY_2014['rape_def_2'] = NY_2014['rape_def_2'].astype(int)\n",
    "NY_2014.loc[NY_2014['rape_def_2'] > 1, ['rape_def_2']] = 1\n",
    "\n",
    "NY_2014.head()"
   ]
  },
  {
   "cell_type": "code",
   "execution_count": 176,
   "metadata": {},
   "outputs": [
    {
     "name": "stdout",
     "output_type": "stream",
     "text": [
      "\n",
      "Coefficients: \n",
      " [[ 4.69584815e-07  1.40358380e+02 -2.73441209e+02]]\n",
      "\n",
      "Intercept: \n",
      " [39.81204911]\n",
      "\n",
      "R-squared:\n",
      "0.6783774202728625\n"
     ]
    },
    {
     "data": {
      "text/html": [
       "<div>\n",
       "<style scoped>\n",
       "    .dataframe tbody tr th:only-of-type {\n",
       "        vertical-align: middle;\n",
       "    }\n",
       "\n",
       "    .dataframe tbody tr th {\n",
       "        vertical-align: top;\n",
       "    }\n",
       "\n",
       "    .dataframe thead th {\n",
       "        text-align: right;\n",
       "    }\n",
       "</style>\n",
       "<table border=\"1\" class=\"dataframe\">\n",
       "  <thead>\n",
       "    <tr style=\"text-align: right;\">\n",
       "      <th></th>\n",
       "      <th>population_sq</th>\n",
       "      <th>murder</th>\n",
       "      <th>rape_def_2</th>\n",
       "    </tr>\n",
       "  </thead>\n",
       "  <tbody>\n",
       "    <tr>\n",
       "      <th>population_sq</th>\n",
       "      <td>1.000</td>\n",
       "      <td>0.552</td>\n",
       "      <td>0.105</td>\n",
       "    </tr>\n",
       "    <tr>\n",
       "      <th>murder</th>\n",
       "      <td>0.552</td>\n",
       "      <td>1.000</td>\n",
       "      <td>0.255</td>\n",
       "    </tr>\n",
       "    <tr>\n",
       "      <th>rape_def_2</th>\n",
       "      <td>0.105</td>\n",
       "      <td>0.255</td>\n",
       "      <td>1.000</td>\n",
       "    </tr>\n",
       "  </tbody>\n",
       "</table>\n",
       "</div>"
      ],
      "text/plain": [
       "               population_sq  murder  rape_def_2\n",
       "population_sq          1.000   0.552       0.105\n",
       "murder                 0.552   1.000       0.255\n",
       "rape_def_2             0.105   0.255       1.000"
      ]
     },
     "metadata": {},
     "output_type": "display_data"
    }
   ],
   "source": [
    "#run model\n",
    "NY_2014_regr = NY_2014[['population_sq','murder','robbery','property_crime','rape_def_2']].copy()\n",
    "\n",
    "Y_NY_2014 = NY_2014_regr['property_crime'].values.reshape(-1,1)\n",
    "X_NY_2014 = NY_2014_regr[['population_sq','murder','rape_def_2']]\n",
    "regr.fit(X_NY_2014,Y_NY_2014)\n",
    "\n",
    "#inspect results\n",
    "print('\\nCoefficients: \\n', regr.coef_)\n",
    "print('\\nIntercept: \\n', regr.intercept_)\n",
    "print('\\nR-squared:')\n",
    "print(regr.score(X_NY_2014, Y_NY_2014))\n",
    "\n",
    "correlation_matrix = X_NY_2014.corr()\n",
    "display(correlation_matrix)"
   ]
  },
  {
   "cell_type": "code",
   "execution_count": 177,
   "metadata": {},
   "outputs": [
    {
     "data": {
      "text/plain": [
       "Intercept         39.812\n",
       "population_sq      0.000\n",
       "murder           140.358\n",
       "rape_def_2      -273.441\n",
       "dtype: float64"
      ]
     },
     "execution_count": 177,
     "metadata": {},
     "output_type": "execute_result"
    }
   ],
   "source": [
    "lm_NY_2014 = smf.ols(formula=linear_formula, data=NY_2014_regr).fit()\n",
    "\n",
    "lm_NY_2014.params"
   ]
  },
  {
   "cell_type": "code",
   "execution_count": 178,
   "metadata": {},
   "outputs": [
    {
     "data": {
      "text/plain": [
       "Intercept       0.003\n",
       "population_sq   0.000\n",
       "murder          0.006\n",
       "rape_def_2      0.073\n",
       "dtype: float64"
      ]
     },
     "execution_count": 178,
     "metadata": {},
     "output_type": "execute_result"
    }
   ],
   "source": [
    "lm_NY_2014.pvalues"
   ]
  },
  {
   "cell_type": "code",
   "execution_count": 179,
   "metadata": {},
   "outputs": [
    {
     "data": {
      "text/plain": [
       "0.6783774202728625"
      ]
     },
     "execution_count": 179,
     "metadata": {},
     "output_type": "execute_result"
    }
   ],
   "source": [
    "lm_NY_2014.rsquared"
   ]
  },
  {
   "cell_type": "code",
   "execution_count": 188,
   "metadata": {},
   "outputs": [
    {
     "data": {
      "text/html": [
       "<div>\n",
       "<style scoped>\n",
       "    .dataframe tbody tr th:only-of-type {\n",
       "        vertical-align: middle;\n",
       "    }\n",
       "\n",
       "    .dataframe tbody tr th {\n",
       "        vertical-align: top;\n",
       "    }\n",
       "\n",
       "    .dataframe thead th {\n",
       "        text-align: right;\n",
       "    }\n",
       "</style>\n",
       "<table border=\"1\" class=\"dataframe\">\n",
       "  <thead>\n",
       "    <tr style=\"text-align: right;\">\n",
       "      <th></th>\n",
       "      <th>0</th>\n",
       "      <th>1</th>\n",
       "    </tr>\n",
       "  </thead>\n",
       "  <tbody>\n",
       "    <tr>\n",
       "      <th>Intercept</th>\n",
       "      <td>13.589</td>\n",
       "      <td>66.035</td>\n",
       "    </tr>\n",
       "    <tr>\n",
       "      <th>population_sq</th>\n",
       "      <td>0.000</td>\n",
       "      <td>0.000</td>\n",
       "    </tr>\n",
       "    <tr>\n",
       "      <th>murder</th>\n",
       "      <td>40.364</td>\n",
       "      <td>240.353</td>\n",
       "    </tr>\n",
       "    <tr>\n",
       "      <th>rape_def_2</th>\n",
       "      <td>-572.370</td>\n",
       "      <td>25.488</td>\n",
       "    </tr>\n",
       "  </tbody>\n",
       "</table>\n",
       "</div>"
      ],
      "text/plain": [
       "                     0       1\n",
       "Intercept       13.589  66.035\n",
       "population_sq    0.000   0.000\n",
       "murder          40.364 240.353\n",
       "rape_def_2    -572.370  25.488"
      ]
     },
     "execution_count": 188,
     "metadata": {},
     "output_type": "execute_result"
    }
   ],
   "source": [
    "lm_NY_2014.conf_int()"
   ]
  },
  {
   "cell_type": "code",
   "execution_count": 189,
   "metadata": {},
   "outputs": [
    {
     "name": "stdout",
     "output_type": "stream",
     "text": [
      "With 20% Holdout: 0.6370081721246255\n",
      "Testing on Sample: 0.6783774202728625\n"
     ]
    }
   ],
   "source": [
    "X_train, X_test, y_train, y_test = train_test_split(X_NY_2014, Y_NY_2014, test_size=0.2)\n",
    "print('With 20% Holdout: ' + str(regr.fit(X_train, y_train).score(X_test, y_test)))\n",
    "print('Testing on Sample: ' + str(regr.fit(X_NY_2014,Y_NY_2014).score(X_NY_2014, Y_NY_2014)))"
   ]
  },
  {
   "cell_type": "code",
   "execution_count": null,
   "metadata": {},
   "outputs": [],
   "source": []
  }
 ],
 "metadata": {
  "kernelspec": {
   "display_name": "Python 3",
   "language": "python",
   "name": "python3"
  },
  "language_info": {
   "codemirror_mode": {
    "name": "ipython",
    "version": 3
   },
   "file_extension": ".py",
   "mimetype": "text/x-python",
   "name": "python",
   "nbconvert_exporter": "python",
   "pygments_lexer": "ipython3",
   "version": "3.6.4"
  }
 },
 "nbformat": 4,
 "nbformat_minor": 2
}
