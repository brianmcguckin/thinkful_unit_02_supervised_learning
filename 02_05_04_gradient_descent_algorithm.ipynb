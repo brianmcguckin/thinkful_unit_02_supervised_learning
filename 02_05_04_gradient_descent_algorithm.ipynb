{
 "cells": [
  {
   "cell_type": "code",
   "execution_count": 3,
   "metadata": {},
   "outputs": [],
   "source": [
    "import warnings\n",
    "\n",
    "import numpy as np\n",
    "import matplotlib.pyplot as plt\n",
    "from sklearn import linear_model\n",
    "\n",
    "# Suppress annoying harmless error.\n",
    "warnings.filterwarnings(\n",
    "    action=\"ignore\",\n",
    "    module=\"scipy\",\n",
    "    message=\"^internal gelsd\"\n",
    ")"
   ]
  },
  {
   "cell_type": "code",
   "execution_count": 7,
   "metadata": {},
   "outputs": [
    {
     "name": "stdout",
     "output_type": "stream",
     "text": [
      "\n",
      "Coefficients from sklearn:\n",
      " [[1.98902451]]\n",
      "\n",
      "Intercept from sklearn:\n",
      " [0.46576234]\n",
      "\n",
      "Number of iterations:\n",
      " 207\n",
      "\n",
      "Coefficients from gradient descent algorithm: \n",
      " 1.7895513301382733\n",
      "\n",
      "Intercept from gradient descent algorithm: \n",
      " 0.4713233837732313\n"
     ]
    },
    {
     "data": {
      "image/png": "[encoded data removed]",
      "text/plain": [
       "<matplotlib.figure.Figure at 0x10c82b6a0>"
      ]
     },
     "metadata": {},
     "output_type": "display_data"
    }
   ],
   "source": [
    "#cost function for the linear regression that we will try to optimize\n",
    "def LR_cost_function (alpha, beta, x, y):\n",
    "    '''Return the cost for a given line and data.\n",
    "    Alpha and beta are the coefficients that describe the fit line, while\n",
    "    x and y are lists or arrays with the x and y value of each data point\n",
    "    '''\n",
    "    error = 0\n",
    "    n = len(x)\n",
    "    for i in range(n):\n",
    "        point_error = (y[i] - (alpha + beta * x[i])) ** 2 #cost function for LR\n",
    "        error += point_error\n",
    "    return error / n\n",
    "\n",
    "#function we'll cal each iteration (step) of the gradient algorithm\n",
    "def step (alpha_cur, beta_cur, learning_rate, x, y):\n",
    "    '''Move downhill from a current cost function to a new more optimal one'''\n",
    "    alpha = 0\n",
    "    beta = 0\n",
    "    n = len(x)\n",
    "    for i in range(n):\n",
    "        #partial derivative of the intercept\n",
    "        point_alpha = -(2/n) * (y[i] - ((alpha_cur + beta_cur * x[i])))\n",
    "        alpha += point_alpha\n",
    "        #partial derivative of the slope\n",
    "        point_beta = -(2/n) * x[i] * (y[i] - ((alpha_cur + beta_cur * x[i])))\n",
    "        beta += point_beta\n",
    "    \n",
    "    new_alpha = alpha_cur - learning_rate * alpha\n",
    "    new_beta = beta_cur - learning_rate * beta\n",
    "    return [new_alpha, new_beta]\n",
    "\n",
    "stop = 1000 #how many steps to take\n",
    "learning_rate = .005 #how far to move with each step\n",
    "alpha_start = 0 #start value intercept\n",
    "beta_start = 0 #start value slope\n",
    "\n",
    "#make some data\n",
    "x = np.random.normal(0,1,100)\n",
    "y = x * 2 + np.random.sample(100)\n",
    "\n",
    "#fit min regression\n",
    "regr = linear_model.LinearRegression()\n",
    "regr.fit(x.reshape(-1,1), y.reshape(-1,1))\n",
    "\n",
    "print('\\nCoefficients from sklearn:\\n', regr.coef_)\n",
    "print('\\nIntercept from sklearn:\\n', regr.intercept_)\n",
    "\n",
    "#fit iteratively optimized regression using custom gradient descent algorithm\n",
    "all_error = [] #store each iteration\n",
    "\n",
    "#provide starting values\n",
    "alpha = alpha_start\n",
    "beta = beta_start\n",
    "\n",
    "#stopping rules\n",
    "stop_threshold = .001\n",
    "iter_count = 0\n",
    "\n",
    "#run the algorithm\n",
    "for iter in range(stop):\n",
    "    alpha, beta = step(alpha, beta, learning_rate, x, y)\n",
    "    iter_count += 1 #increase iter_count\n",
    "    if len(all_error) > 2: #make sure there's at least 2 errors to compare\n",
    "        if all_error[-2] - all_error[-1] < stop_threshold: #check if last 2 errors are less than stop thresh\n",
    "            print('\\nNumber of iterations:\\n', iter_count)\n",
    "            break\n",
    "    \n",
    "    error = LR_cost_function(alpha, beta, x, y)\n",
    "    all_error.append(error)\n",
    "\n",
    "print('\\nCoefficients from gradient descent algorithm: \\n', beta)\n",
    "print('\\nIntercept from gradient descent algorithm: \\n', alpha)\n",
    "\n",
    "plt.plot(all_error, 'o', ms=.4)\n",
    "plt.xlabel('Iteration')\n",
    "plt.ylabel('Error')\n",
    "plt.title('Error scores for each iteration')\n",
    "plt.show()"
   ]
  },
  {
   "cell_type": "markdown",
   "metadata": {},
   "source": [
    "## Stopping rules\n",
    "\n",
    "As implemented above, the only stopping rule is the number of iterations. This is not always efficient.\n",
    "Modify the code by adding a stopping threshold so that the algorithm stops when the difference in error between two successive iterations is less than .001."
   ]
  },
  {
   "cell_type": "code",
   "execution_count": 9,
   "metadata": {},
   "outputs": [
    {
     "name": "stdout",
     "output_type": "stream",
     "text": [
      "Number of iterations:\n",
      " 207\n"
     ]
    }
   ],
   "source": [
    "# With this rule, how many iterations do you need before you stop?\n",
    "\n",
    "print('Number of iterations:\\n',iter_count)"
   ]
  },
  {
   "cell_type": "code",
   "execution_count": null,
   "metadata": {},
   "outputs": [],
   "source": []
  }
 ],
 "metadata": {
  "kernelspec": {
   "display_name": "Python 3",
   "language": "python",
   "name": "python3"
  },
  "language_info": {
   "codemirror_mode": {
    "name": "ipython",
    "version": 3
   },
   "file_extension": ".py",
   "mimetype": "text/x-python",
   "name": "python",
   "nbconvert_exporter": "python",
   "pygments_lexer": "ipython3",
   "version": "3.6.4"
  }
 },
 "nbformat": 4,
 "nbformat_minor": 2
}
