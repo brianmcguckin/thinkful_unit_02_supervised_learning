{
 "cells": [
  {
   "cell_type": "code",
   "execution_count": 1,
   "metadata": {},
   "outputs": [],
   "source": [
    "import math\n",
    "import warnings\n",
    "\n",
    "from IPython.display import display\n",
    "from matplotlib import pyplot as plt\n",
    "import numpy as np\n",
    "import pandas as pd\n",
    "import seaborn as sns\n",
    "from sklearn import linear_model\n",
    "import statsmodels.formula.api as smf\n",
    "from statsmodels.sandbox.regression.predstd import wls_prediction_std\n",
    "\n",
    "# Display preferences.\n",
    "%matplotlib inline\n",
    "pd.options.display.float_format = '{:.3f}'.format\n",
    "\n",
    "# Suppress annoying harmless error.\n",
    "warnings.filterwarnings(\n",
    "    action=\"ignore\",\n",
    "    module=\"scipy\",\n",
    "    message=\"^internal gelsd\"\n",
    ")"
   ]
  },
  {
   "cell_type": "code",
   "execution_count": 27,
   "metadata": {
    "scrolled": false
   },
   "outputs": [],
   "source": [
    "NY_2013_raw = pd.read_csv('https://raw.githubusercontent.com/Thinkful-Ed/data-201-resources/master/New_York_offenses/NEW_YORK-Offenses_Known_to_Law_Enforcement_by_City_2013%20-%2013tbl8ny.csv',\n",
    "                      skiprows=[0,1,2,3])\n",
    "NY_2013_raw.columns =['city',\n",
    "                   'population',\n",
    "                   'violent_crime',\n",
    "                   'murder',\n",
    "                   'rape_def_1',\n",
    "                   'rape_def_2',\n",
    "                  'robbery',\n",
    "                  'aggravated_assault',\n",
    "                  'property_crime',\n",
    "                  'burglary',\n",
    "                  'larceny_theft',\n",
    "                  'motor_vehicle_theft',\n",
    "                  'arson']"
   ]
  },
  {
   "cell_type": "code",
   "execution_count": 90,
   "metadata": {
    "scrolled": false
   },
   "outputs": [
    {
     "data": {
      "text/html": [
       "<div>\n",
       "<style scoped>\n",
       "    .dataframe tbody tr th:only-of-type {\n",
       "        vertical-align: middle;\n",
       "    }\n",
       "\n",
       "    .dataframe tbody tr th {\n",
       "        vertical-align: top;\n",
       "    }\n",
       "\n",
       "    .dataframe thead th {\n",
       "        text-align: right;\n",
       "    }\n",
       "</style>\n",
       "<table border=\"1\" class=\"dataframe\">\n",
       "  <thead>\n",
       "    <tr style=\"text-align: right;\">\n",
       "      <th></th>\n",
       "      <th>population</th>\n",
       "      <th>violent_crime</th>\n",
       "      <th>murder</th>\n",
       "      <th>rape_def_2</th>\n",
       "      <th>robbery</th>\n",
       "      <th>aggravated_assault</th>\n",
       "      <th>property_crime</th>\n",
       "    </tr>\n",
       "  </thead>\n",
       "  <tbody>\n",
       "    <tr>\n",
       "      <th>0</th>\n",
       "      <td>1861</td>\n",
       "      <td>0</td>\n",
       "      <td>0</td>\n",
       "      <td>0</td>\n",
       "      <td>0</td>\n",
       "      <td>0</td>\n",
       "      <td>12</td>\n",
       "    </tr>\n",
       "    <tr>\n",
       "      <th>1</th>\n",
       "      <td>2577</td>\n",
       "      <td>3</td>\n",
       "      <td>0</td>\n",
       "      <td>0</td>\n",
       "      <td>0</td>\n",
       "      <td>3</td>\n",
       "      <td>24</td>\n",
       "    </tr>\n",
       "    <tr>\n",
       "      <th>2</th>\n",
       "      <td>2846</td>\n",
       "      <td>3</td>\n",
       "      <td>0</td>\n",
       "      <td>0</td>\n",
       "      <td>0</td>\n",
       "      <td>3</td>\n",
       "      <td>16</td>\n",
       "    </tr>\n",
       "    <tr>\n",
       "      <th>3</th>\n",
       "      <td>97956</td>\n",
       "      <td>791</td>\n",
       "      <td>8</td>\n",
       "      <td>30</td>\n",
       "      <td>227</td>\n",
       "      <td>526</td>\n",
       "      <td>4090</td>\n",
       "    </tr>\n",
       "    <tr>\n",
       "      <th>4</th>\n",
       "      <td>6388</td>\n",
       "      <td>23</td>\n",
       "      <td>0</td>\n",
       "      <td>3</td>\n",
       "      <td>4</td>\n",
       "      <td>16</td>\n",
       "      <td>223</td>\n",
       "    </tr>\n",
       "  </tbody>\n",
       "</table>\n",
       "</div>"
      ],
      "text/plain": [
       "   population  violent_crime  murder  rape_def_2  robbery  aggravated_assault  \\\n",
       "0        1861              0       0           0        0                   0   \n",
       "1        2577              3       0           0        0                   3   \n",
       "2        2846              3       0           0        0                   3   \n",
       "3       97956            791       8          30      227                 526   \n",
       "4        6388             23       0           3        4                  16   \n",
       "\n",
       "   property_crime  \n",
       "0              12  \n",
       "1              24  \n",
       "2              16  \n",
       "3            4090  \n",
       "4             223  "
      ]
     },
     "execution_count": 90,
     "metadata": {},
     "output_type": "execute_result"
    }
   ],
   "source": [
    "#set dataframe with features to try out\n",
    "NY_2013 = NY_2013_raw[['population','violent_crime','murder','rape_def_2',\n",
    "                       'robbery','aggravated_assault','property_crime']].copy()\n",
    "NY_2013 = NY_2013.dropna()\n",
    "\n",
    "#remove all commas\n",
    "cols = ['population','violent_crime','murder','rape_def_2',\n",
    "        'robbery','aggravated_assault','property_crime']\n",
    "NY_2013[cols] = NY_2013[cols].replace({',':''}, regex=True)\n",
    "\n",
    "#cast to int\n",
    "NY_2013[cols] = NY_2013[cols].astype(int)\n",
    "\n",
    "#remove outliers using 3 std dvs\n",
    "#NY_2013 = NY_2013[np.abs(NY_2013 - NY_2013.mean()) <= (3 * NY_2013.std())]\n",
    "#NY_2013 = NY_2013.dropna()\n",
    "#NY_2013[cols] = NY_2013[cols].astype(int)\n",
    "\n",
    "NY_2013.head()"
   ]
  },
  {
   "cell_type": "code",
   "execution_count": 91,
   "metadata": {},
   "outputs": [
    {
     "name": "stdout",
     "output_type": "stream",
     "text": [
      "\n",
      "Coefficients: \n",
      " [[ 1.21189893e-02  7.48268123e+01  6.12845922e+01 -5.63689035e-01\n",
      "  -1.32770779e+00]]\n",
      "\n",
      "Intercept: \n",
      " [32.86846523]\n",
      "\n",
      "R-squared:\n",
      "0.9990024878038867\n",
      "\n",
      "Adjusted R-squared: \n",
      " 0.9989879042922476\n"
     ]
    }
   ],
   "source": [
    "regr = linear_model.LinearRegression()\n",
    "y_NY_2013 = NY_2013['property_crime'].values.reshape(-1,1)\n",
    "X_NY_2013 = NY_2013[['population','murder','rape_def_2',\n",
    "                     'robbery','aggravated_assault']]\n",
    "regr.fit(X_NY_2013,y_NY_2013)\n",
    "\n",
    "print('\\nCoefficients: \\n', regr.coef_)\n",
    "print('\\nIntercept: \\n', regr.intercept_)\n",
    "print('\\nR-squared:')\n",
    "print(regr.score(X_NY_2013, y_NY_2013))\n",
    "print('\\nAdjusted R-squared: \\n',\n",
    "      1 - (1-regr.score(X_NY_2013,y_NY_2013))*(len(y_NY_2013)-1)/(len(y_NY_2013) - X_NY_2013.shape[1]-1))"
   ]
  },
  {
   "cell_type": "code",
   "execution_count": 92,
   "metadata": {},
   "outputs": [
    {
     "data": {
      "image/png": "[encoded data removed]",
      "text/plain": [
       "<matplotlib.figure.Figure at 0x1a189d40f0>"
      ]
     },
     "metadata": {},
     "output_type": "display_data"
    }
   ],
   "source": [
    "#check features for linearity\n",
    "plt.figure(figsize=(20,10))\n",
    "\n",
    "plt.subplot(2,3,1)\n",
    "plt.scatter(y_NY_2013,NY_2013['population'])\n",
    "plt.title('population')\n",
    "\n",
    "plt.subplot(2,3,2)\n",
    "plt.scatter(y_NY_2013,NY_2013['murder'])\n",
    "plt.title('murder')\n",
    "\n",
    "plt.subplot(2,3,3)\n",
    "plt.scatter(y_NY_2013,NY_2013['rape_def_2'])\n",
    "plt.title('rape_def_2')\n",
    "\n",
    "plt.subplot(2,3,4)\n",
    "plt.scatter(y_NY_2013,NY_2013['robbery'])\n",
    "plt.title('robbery')\n",
    "\n",
    "plt.subplot(2,3,5)\n",
    "plt.scatter(y_NY_2013,NY_2013['aggravated_assault'])\n",
    "plt.title('aggravated_assault')\n",
    "\n",
    "plt.show()"
   ]
  },
  {
   "cell_type": "code",
   "execution_count": 93,
   "metadata": {},
   "outputs": [
    {
     "data": {
      "image/png": "[encoded data removed]",
      "text/plain": [
       "<matplotlib.figure.Figure at 0x11292c780>"
      ]
     },
     "metadata": {},
     "output_type": "display_data"
    }
   ],
   "source": [
    "#check for error normality and homoscedasticity\n",
    "NY_2013_predicted = regr.predict(X_NY_2013).ravel()\n",
    "NY_2013_actual = NY_2013['property_crime']\n",
    "NY_2013_residual = NY_2013_actual - NY_2013_predicted\n",
    "\n",
    "plt.figure(figsize=(20,7.5))\n",
    "\n",
    "plt.subplot(1,2,1)\n",
    "plt.hist(NY_2013_residual)\n",
    "plt.title('residual counts')\n",
    "plt.xlabel('residual')\n",
    "plt.ylabel('counts')\n",
    "\n",
    "plt.subplot(1,2,2)\n",
    "plt.scatter(NY_2013_predicted,NY_2013_residual)\n",
    "plt.axhline(y=0)\n",
    "plt.xlabel('predicted')\n",
    "plt.ylabel('residual')\n",
    "plt.title('residual vs. predicted')\n",
    "\n",
    "plt.show()"
   ]
  },
  {
   "cell_type": "code",
   "execution_count": 94,
   "metadata": {},
   "outputs": [
    {
     "data": {
      "text/html": [
       "<div>\n",
       "<style scoped>\n",
       "    .dataframe tbody tr th:only-of-type {\n",
       "        vertical-align: middle;\n",
       "    }\n",
       "\n",
       "    .dataframe tbody tr th {\n",
       "        vertical-align: top;\n",
       "    }\n",
       "\n",
       "    .dataframe thead th {\n",
       "        text-align: right;\n",
       "    }\n",
       "</style>\n",
       "<table border=\"1\" class=\"dataframe\">\n",
       "  <thead>\n",
       "    <tr style=\"text-align: right;\">\n",
       "      <th></th>\n",
       "      <th>population</th>\n",
       "      <th>murder</th>\n",
       "      <th>rape_def_2</th>\n",
       "      <th>robbery</th>\n",
       "      <th>aggravated_assault</th>\n",
       "    </tr>\n",
       "  </thead>\n",
       "  <tbody>\n",
       "    <tr>\n",
       "      <th>population</th>\n",
       "      <td>1.000</td>\n",
       "      <td>0.987</td>\n",
       "      <td>0.991</td>\n",
       "      <td>0.998</td>\n",
       "      <td>0.999</td>\n",
       "    </tr>\n",
       "    <tr>\n",
       "      <th>murder</th>\n",
       "      <td>0.987</td>\n",
       "      <td>1.000</td>\n",
       "      <td>0.998</td>\n",
       "      <td>0.993</td>\n",
       "      <td>0.991</td>\n",
       "    </tr>\n",
       "    <tr>\n",
       "      <th>rape_def_2</th>\n",
       "      <td>0.991</td>\n",
       "      <td>0.998</td>\n",
       "      <td>1.000</td>\n",
       "      <td>0.995</td>\n",
       "      <td>0.994</td>\n",
       "    </tr>\n",
       "    <tr>\n",
       "      <th>robbery</th>\n",
       "      <td>0.998</td>\n",
       "      <td>0.993</td>\n",
       "      <td>0.995</td>\n",
       "      <td>1.000</td>\n",
       "      <td>1.000</td>\n",
       "    </tr>\n",
       "    <tr>\n",
       "      <th>aggravated_assault</th>\n",
       "      <td>0.999</td>\n",
       "      <td>0.991</td>\n",
       "      <td>0.994</td>\n",
       "      <td>1.000</td>\n",
       "      <td>1.000</td>\n",
       "    </tr>\n",
       "  </tbody>\n",
       "</table>\n",
       "</div>"
      ],
      "text/plain": [
       "                    population  murder  rape_def_2  robbery  \\\n",
       "population               1.000   0.987       0.991    0.998   \n",
       "murder                   0.987   1.000       0.998    0.993   \n",
       "rape_def_2               0.991   0.998       1.000    0.995   \n",
       "robbery                  0.998   0.993       0.995    1.000   \n",
       "aggravated_assault       0.999   0.991       0.994    1.000   \n",
       "\n",
       "                    aggravated_assault  \n",
       "population                       0.999  \n",
       "murder                           0.991  \n",
       "rape_def_2                       0.994  \n",
       "robbery                          1.000  \n",
       "aggravated_assault               1.000  "
      ]
     },
     "metadata": {},
     "output_type": "display_data"
    }
   ],
   "source": [
    "correlation_matrix = X_NY_2013.corr()\n",
    "display(correlation_matrix)"
   ]
  },
  {
   "cell_type": "code",
   "execution_count": 101,
   "metadata": {},
   "outputs": [
    {
     "data": {
      "text/plain": [
       "Intercept            32.868\n",
       "population            0.012\n",
       "murder               74.827\n",
       "rape_def_2           61.285\n",
       "robbery              -0.564\n",
       "aggravated_assault   -1.328\n",
       "dtype: float64"
      ]
     },
     "execution_count": 101,
     "metadata": {},
     "output_type": "execute_result"
    }
   ],
   "source": [
    "linear_formula = 'property_crime ~ population+murder+rape_def_2+robbery+aggravated_assault'\n",
    "lm_NY_2013 = smf.ols(formula=linear_formula, data=NY_2013).fit()\n",
    "\n",
    "lm_NY_2013.params"
   ]
  },
  {
   "cell_type": "code",
   "execution_count": 102,
   "metadata": {},
   "outputs": [
    {
     "data": {
      "text/plain": [
       "Intercept            0.043\n",
       "population           0.000\n",
       "murder               0.000\n",
       "rape_def_2           0.000\n",
       "robbery              0.583\n",
       "aggravated_assault   0.028\n",
       "dtype: float64"
      ]
     },
     "execution_count": 102,
     "metadata": {},
     "output_type": "execute_result"
    }
   ],
   "source": [
    "lm_NY_2013.pvalues"
   ]
  },
  {
   "cell_type": "code",
   "execution_count": 103,
   "metadata": {},
   "outputs": [
    {
     "data": {
      "text/plain": [
       "0.9990024878038868"
      ]
     },
     "execution_count": 103,
     "metadata": {},
     "output_type": "execute_result"
    }
   ],
   "source": [
    "lm_NY_2013.rsquared"
   ]
  },
  {
   "cell_type": "code",
   "execution_count": 110,
   "metadata": {},
   "outputs": [
    {
     "data": {
      "text/html": [
       "<div>\n",
       "<style scoped>\n",
       "    .dataframe tbody tr th:only-of-type {\n",
       "        vertical-align: middle;\n",
       "    }\n",
       "\n",
       "    .dataframe tbody tr th {\n",
       "        vertical-align: top;\n",
       "    }\n",
       "\n",
       "    .dataframe thead th {\n",
       "        text-align: right;\n",
       "    }\n",
       "</style>\n",
       "<table border=\"1\" class=\"dataframe\">\n",
       "  <thead>\n",
       "    <tr style=\"text-align: right;\">\n",
       "      <th></th>\n",
       "      <th>0</th>\n",
       "      <th>1</th>\n",
       "    </tr>\n",
       "  </thead>\n",
       "  <tbody>\n",
       "    <tr>\n",
       "      <th>Intercept</th>\n",
       "      <td>0.995</td>\n",
       "      <td>64.742</td>\n",
       "    </tr>\n",
       "    <tr>\n",
       "      <th>population</th>\n",
       "      <td>0.010</td>\n",
       "      <td>0.014</td>\n",
       "    </tr>\n",
       "    <tr>\n",
       "      <th>murder</th>\n",
       "      <td>44.120</td>\n",
       "      <td>105.533</td>\n",
       "    </tr>\n",
       "    <tr>\n",
       "      <th>rape_def_2</th>\n",
       "      <td>52.884</td>\n",
       "      <td>69.685</td>\n",
       "    </tr>\n",
       "    <tr>\n",
       "      <th>robbery</th>\n",
       "      <td>-2.579</td>\n",
       "      <td>1.451</td>\n",
       "    </tr>\n",
       "    <tr>\n",
       "      <th>aggravated_assault</th>\n",
       "      <td>-2.510</td>\n",
       "      <td>-0.146</td>\n",
       "    </tr>\n",
       "  </tbody>\n",
       "</table>\n",
       "</div>"
      ],
      "text/plain": [
       "                        0       1\n",
       "Intercept           0.995  64.742\n",
       "population          0.010   0.014\n",
       "murder             44.120 105.533\n",
       "rape_def_2         52.884  69.685\n",
       "robbery            -2.579   1.451\n",
       "aggravated_assault -2.510  -0.146"
      ]
     },
     "execution_count": 110,
     "metadata": {},
     "output_type": "execute_result"
    }
   ],
   "source": [
    "lm_NY_2013.conf_int()"
   ]
  },
  {
   "cell_type": "code",
   "execution_count": 113,
   "metadata": {},
   "outputs": [
    {
     "data": {
      "image/png": "[encoded data removed]",
      "text/plain": [
       "<matplotlib.figure.Figure at 0x1a189d4940>"
      ]
     },
     "metadata": {},
     "output_type": "display_data"
    }
   ],
   "source": [
    "# Use wls_prediction_std to build confidence intervals\n",
    "prstd, iv_l, iv_u = wls_prediction_std(lm_NY_2013)\n",
    "\n",
    "plt.figure()\n",
    "plt.plot(iv_u[0:30], 'o', color='r')\n",
    "plt.plot(iv_l[0:30], 'o', color='r')\n",
    "plt.plot(lm_NY_2013.fittedvalues[0:30], 'o', color='b')\n",
    "plt.title('blue: predicted, red: 95% CI')\n",
    "plt.show()"
   ]
  },
  {
   "cell_type": "markdown",
   "metadata": {},
   "source": [
    "## Regression 2"
   ]
  },
  {
   "cell_type": "code",
   "execution_count": 105,
   "metadata": {},
   "outputs": [
    {
     "data": {
      "text/plain": [
       "Intercept            33.901\n",
       "population            0.012\n",
       "murder               68.791\n",
       "rape_def_2           61.951\n",
       "aggravated_assault   -1.620\n",
       "dtype: float64"
      ]
     },
     "execution_count": 105,
     "metadata": {},
     "output_type": "execute_result"
    }
   ],
   "source": [
    "#robbery pvalue high, drop\n",
    "linear_formula_2 = 'property_crime ~ population+murder+rape_def_2+aggravated_assault'\n",
    "lm_NY_2013_2 = smf.ols(formula=linear_formula_2, data=NY_2013).fit()\n",
    "\n",
    "lm_NY_2013_2.params"
   ]
  },
  {
   "cell_type": "code",
   "execution_count": 106,
   "metadata": {},
   "outputs": [
    {
     "data": {
      "text/plain": [
       "Intercept            0.036\n",
       "population           0.000\n",
       "murder               0.000\n",
       "rape_def_2           0.000\n",
       "aggravated_assault   0.000\n",
       "dtype: float64"
      ]
     },
     "execution_count": 106,
     "metadata": {},
     "output_type": "execute_result"
    }
   ],
   "source": [
    "lm_NY_2013_2.pvalues"
   ]
  },
  {
   "cell_type": "code",
   "execution_count": 107,
   "metadata": {},
   "outputs": [
    {
     "data": {
      "text/plain": [
       "0.9990016046992483"
      ]
     },
     "execution_count": 107,
     "metadata": {},
     "output_type": "execute_result"
    }
   ],
   "source": [
    "lm_NY_2013_2.rsquared"
   ]
  },
  {
   "cell_type": "code",
   "execution_count": 109,
   "metadata": {},
   "outputs": [
    {
     "data": {
      "text/html": [
       "<div>\n",
       "<style scoped>\n",
       "    .dataframe tbody tr th:only-of-type {\n",
       "        vertical-align: middle;\n",
       "    }\n",
       "\n",
       "    .dataframe tbody tr th {\n",
       "        vertical-align: top;\n",
       "    }\n",
       "\n",
       "    .dataframe thead th {\n",
       "        text-align: right;\n",
       "    }\n",
       "</style>\n",
       "<table border=\"1\" class=\"dataframe\">\n",
       "  <thead>\n",
       "    <tr style=\"text-align: right;\">\n",
       "      <th></th>\n",
       "      <th>0</th>\n",
       "      <th>1</th>\n",
       "    </tr>\n",
       "  </thead>\n",
       "  <tbody>\n",
       "    <tr>\n",
       "      <th>Intercept</th>\n",
       "      <td>2.275</td>\n",
       "      <td>65.528</td>\n",
       "    </tr>\n",
       "    <tr>\n",
       "      <th>population</th>\n",
       "      <td>0.010</td>\n",
       "      <td>0.014</td>\n",
       "    </tr>\n",
       "    <tr>\n",
       "      <th>murder</th>\n",
       "      <td>46.963</td>\n",
       "      <td>90.620</td>\n",
       "    </tr>\n",
       "    <tr>\n",
       "      <th>rape_def_2</th>\n",
       "      <td>53.903</td>\n",
       "      <td>69.998</td>\n",
       "    </tr>\n",
       "    <tr>\n",
       "      <th>aggravated_assault</th>\n",
       "      <td>-2.170</td>\n",
       "      <td>-1.071</td>\n",
       "    </tr>\n",
       "  </tbody>\n",
       "</table>\n",
       "</div>"
      ],
      "text/plain": [
       "                        0      1\n",
       "Intercept           2.275 65.528\n",
       "population          0.010  0.014\n",
       "murder             46.963 90.620\n",
       "rape_def_2         53.903 69.998\n",
       "aggravated_assault -2.170 -1.071"
      ]
     },
     "execution_count": 109,
     "metadata": {},
     "output_type": "execute_result"
    }
   ],
   "source": [
    "lm_NY_2013_2.conf_int()"
   ]
  },
  {
   "cell_type": "code",
   "execution_count": 112,
   "metadata": {},
   "outputs": [
    {
     "data": {
      "image/png": "[encoded data removed]",
      "text/plain": [
       "<matplotlib.figure.Figure at 0x1a18739358>"
      ]
     },
     "metadata": {},
     "output_type": "display_data"
    }
   ],
   "source": [
    "# Use wls_prediction_std to build confidence intervals\n",
    "prstd, iv_l, iv_u = wls_prediction_std(lm_NY_2013_2)\n",
    "\n",
    "plt.figure()\n",
    "plt.plot(iv_u[0:30], 'o', color='r')\n",
    "plt.plot(iv_l[0:30], 'o', color='r')\n",
    "plt.plot(lm_NY_2013_2.fittedvalues[0:30], 'o', color='b')\n",
    "plt.title('blue: predicted, red: 95% CI')\n",
    "plt.show()"
   ]
  },
  {
   "cell_type": "markdown",
   "metadata": {},
   "source": [
    "## Regression 3"
   ]
  },
  {
   "cell_type": "code",
   "execution_count": 114,
   "metadata": {},
   "outputs": [
    {
     "data": {
      "text/plain": [
       "Intercept     87.066\n",
       "population     0.012\n",
       "murder       228.489\n",
       "robbery       -1.924\n",
       "dtype: float64"
      ]
     },
     "execution_count": 114,
     "metadata": {},
     "output_type": "execute_result"
    }
   ],
   "source": [
    "linear_formula_3 = 'property_crime ~ population+murder+robbery'\n",
    "lm_NY_2013_3= smf.ols(formula=linear_formula_3, data=NY_2013).fit()\n",
    "\n",
    "lm_NY_2013_3.params"
   ]
  },
  {
   "cell_type": "code",
   "execution_count": 115,
   "metadata": {},
   "outputs": [
    {
     "data": {
      "text/plain": [
       "Intercept    0.000\n",
       "population   0.000\n",
       "murder       0.000\n",
       "robbery      0.002\n",
       "dtype: float64"
      ]
     },
     "execution_count": 115,
     "metadata": {},
     "output_type": "execute_result"
    }
   ],
   "source": [
    "lm_NY_2013_3.pvalues"
   ]
  },
  {
   "cell_type": "code",
   "execution_count": 116,
   "metadata": {},
   "outputs": [
    {
     "data": {
      "text/plain": [
       "0.9983708205913115"
      ]
     },
     "execution_count": 116,
     "metadata": {},
     "output_type": "execute_result"
    }
   ],
   "source": [
    "lm_NY_2013_3.rsquared"
   ]
  },
  {
   "cell_type": "code",
   "execution_count": 117,
   "metadata": {},
   "outputs": [
    {
     "data": {
      "text/html": [
       "<div>\n",
       "<style scoped>\n",
       "    .dataframe tbody tr th:only-of-type {\n",
       "        vertical-align: middle;\n",
       "    }\n",
       "\n",
       "    .dataframe tbody tr th {\n",
       "        vertical-align: top;\n",
       "    }\n",
       "\n",
       "    .dataframe thead th {\n",
       "        text-align: right;\n",
       "    }\n",
       "</style>\n",
       "<table border=\"1\" class=\"dataframe\">\n",
       "  <thead>\n",
       "    <tr style=\"text-align: right;\">\n",
       "      <th></th>\n",
       "      <th>0</th>\n",
       "      <th>1</th>\n",
       "    </tr>\n",
       "  </thead>\n",
       "  <tbody>\n",
       "    <tr>\n",
       "      <th>Intercept</th>\n",
       "      <td>47.830</td>\n",
       "      <td>126.302</td>\n",
       "    </tr>\n",
       "    <tr>\n",
       "      <th>population</th>\n",
       "      <td>0.010</td>\n",
       "      <td>0.014</td>\n",
       "    </tr>\n",
       "    <tr>\n",
       "      <th>murder</th>\n",
       "      <td>205.624</td>\n",
       "      <td>251.355</td>\n",
       "    </tr>\n",
       "    <tr>\n",
       "      <th>robbery</th>\n",
       "      <td>-3.114</td>\n",
       "      <td>-0.734</td>\n",
       "    </tr>\n",
       "  </tbody>\n",
       "</table>\n",
       "</div>"
      ],
      "text/plain": [
       "                 0       1\n",
       "Intercept   47.830 126.302\n",
       "population   0.010   0.014\n",
       "murder     205.624 251.355\n",
       "robbery     -3.114  -0.734"
      ]
     },
     "execution_count": 117,
     "metadata": {},
     "output_type": "execute_result"
    }
   ],
   "source": [
    "lm_NY_2013_3.conf_int()"
   ]
  },
  {
   "cell_type": "code",
   "execution_count": 119,
   "metadata": {},
   "outputs": [
    {
     "data": {
      "image/png": "[encoded data removed]",
      "text/plain": [
       "<matplotlib.figure.Figure at 0x105a05ac8>"
      ]
     },
     "metadata": {},
     "output_type": "display_data"
    }
   ],
   "source": [
    "# Use wls_prediction_std to build confidence intervals\n",
    "prstd, iv_l, iv_u = wls_prediction_std(lm_NY_2013_3)\n",
    "\n",
    "plt.figure()\n",
    "plt.plot(iv_u[0:30], 'o', color='r')\n",
    "plt.plot(iv_l[0:30], 'o', color='r')\n",
    "plt.plot(lm_NY_2013_3.fittedvalues[0:30], 'o', color='b')\n",
    "plt.title('blue: predicted, red: 95% CI')\n",
    "plt.show()"
   ]
  },
  {
   "cell_type": "code",
   "execution_count": null,
   "metadata": {},
   "outputs": [],
   "source": []
  }
 ],
 "metadata": {
  "kernelspec": {
   "display_name": "Python 3",
   "language": "python",
   "name": "python3"
  },
  "language_info": {
   "codemirror_mode": {
    "name": "ipython",
    "version": 3
   },
   "file_extension": ".py",
   "mimetype": "text/x-python",
   "name": "python",
   "nbconvert_exporter": "python",
   "pygments_lexer": "ipython3",
   "version": "3.6.4"
  }
 },
 "nbformat": 4,
 "nbformat_minor": 2
}
