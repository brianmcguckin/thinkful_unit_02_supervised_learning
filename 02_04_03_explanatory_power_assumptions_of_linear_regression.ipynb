{
 "cells": [
  {
   "cell_type": "code",
   "execution_count": 1,
   "metadata": {},
   "outputs": [],
   "source": [
    "import math\n",
    "import warnings\n",
    "\n",
    "from IPython.display import display\n",
    "from matplotlib import pyplot as plt\n",
    "import numpy as np\n",
    "import pandas as pd\n",
    "import seaborn as sns\n",
    "from sklearn import linear_model\n",
    "import statsmodels.formula.api as smf\n",
    "\n",
    "#display prefs\n",
    "%matplotlib inline\n",
    "pd.options.display.float_format = '{:.3f}'.format\n",
    "sns.set_style('whitegrid')\n",
    "\n",
    "#error suppress\n",
    "warnings.filterwarnings(action='ignore',\n",
    "                       module='scipy',\n",
    "                       message='^internal gelsd')"
   ]
  },
  {
   "cell_type": "code",
   "execution_count": 2,
   "metadata": {},
   "outputs": [
    {
     "data": {
      "text/html": [
       "<div>\n",
       "<style scoped>\n",
       "    .dataframe tbody tr th:only-of-type {\n",
       "        vertical-align: middle;\n",
       "    }\n",
       "\n",
       "    .dataframe tbody tr th {\n",
       "        vertical-align: top;\n",
       "    }\n",
       "\n",
       "    .dataframe thead th {\n",
       "        text-align: right;\n",
       "    }\n",
       "</style>\n",
       "<table border=\"1\" class=\"dataframe\">\n",
       "  <thead>\n",
       "    <tr style=\"text-align: right;\">\n",
       "      <th></th>\n",
       "      <th>Unnamed: 0</th>\n",
       "      <th>TV</th>\n",
       "      <th>Radio</th>\n",
       "      <th>Newspaper</th>\n",
       "      <th>Sales</th>\n",
       "    </tr>\n",
       "  </thead>\n",
       "  <tbody>\n",
       "    <tr>\n",
       "      <th>0</th>\n",
       "      <td>1</td>\n",
       "      <td>230.100</td>\n",
       "      <td>37.800</td>\n",
       "      <td>69.200</td>\n",
       "      <td>22.100</td>\n",
       "    </tr>\n",
       "    <tr>\n",
       "      <th>1</th>\n",
       "      <td>2</td>\n",
       "      <td>44.500</td>\n",
       "      <td>39.300</td>\n",
       "      <td>45.100</td>\n",
       "      <td>10.400</td>\n",
       "    </tr>\n",
       "    <tr>\n",
       "      <th>2</th>\n",
       "      <td>3</td>\n",
       "      <td>17.200</td>\n",
       "      <td>45.900</td>\n",
       "      <td>69.300</td>\n",
       "      <td>9.300</td>\n",
       "    </tr>\n",
       "    <tr>\n",
       "      <th>3</th>\n",
       "      <td>4</td>\n",
       "      <td>151.500</td>\n",
       "      <td>41.300</td>\n",
       "      <td>58.500</td>\n",
       "      <td>18.500</td>\n",
       "    </tr>\n",
       "    <tr>\n",
       "      <th>4</th>\n",
       "      <td>5</td>\n",
       "      <td>180.800</td>\n",
       "      <td>10.800</td>\n",
       "      <td>58.400</td>\n",
       "      <td>12.900</td>\n",
       "    </tr>\n",
       "  </tbody>\n",
       "</table>\n",
       "</div>"
      ],
      "text/plain": [
       "   Unnamed: 0      TV  Radio  Newspaper  Sales\n",
       "0           1 230.100 37.800     69.200 22.100\n",
       "1           2  44.500 39.300     45.100 10.400\n",
       "2           3  17.200 45.900     69.300  9.300\n",
       "3           4 151.500 41.300     58.500 18.500\n",
       "4           5 180.800 10.800     58.400 12.900"
      ]
     },
     "metadata": {},
     "output_type": "display_data"
    },
    {
     "name": "stdout",
     "output_type": "stream",
     "text": [
      "\n",
      "Coefficients: \n",
      " [[ 0.04576465  0.18853002 -0.00103749]]\n",
      "\n",
      "Intercept: \n",
      " [2.93888937]\n",
      "\n",
      "R-squared:\n",
      "0.8972106381789521\n"
     ]
    }
   ],
   "source": [
    "#acquire, load, and preview the data.\n",
    "data = pd.read_csv('https://tf-curricula-prod.s3.amazonaws.com/data-science/Advertising.csv')\n",
    "display(data.head())\n",
    "\n",
    "#instantiate and fit model\n",
    "regr = linear_model.LinearRegression()\n",
    "Y = data['Sales'].values.reshape(-1,1)\n",
    "X = data[['TV', 'Radio', 'Newspaper']]\n",
    "regr.fit(X,Y)\n",
    "\n",
    "#inspect results\n",
    "print('\\nCoefficients: \\n', regr.coef_)\n",
    "print('\\nIntercept: \\n', regr.intercept_)\n",
    "print('\\nR-squared:')\n",
    "print(regr.score(X,Y))"
   ]
  },
  {
   "cell_type": "markdown",
   "metadata": {},
   "source": [
    "## Assumption one: linear relationship"
   ]
  },
  {
   "cell_type": "code",
   "execution_count": 3,
   "metadata": {},
   "outputs": [
    {
     "data": {
      "image/png": "[encoded data removed]",
      "text/plain": [
       "<matplotlib.figure.Figure at 0x1100104e0>"
      ]
     },
     "metadata": {},
     "output_type": "display_data"
    },
    {
     "data": {
      "image/png": "[encoded data removed]",
      "text/plain": [
       "<matplotlib.figure.Figure at 0x1134a74e0>"
      ]
     },
     "metadata": {},
     "output_type": "display_data"
    }
   ],
   "source": [
    "#sample data\n",
    "outcome = [1,2,3,4,5,6,7,8,9,10,11,12]\n",
    "feature = [3,4,10,16,25,33,49,60,85,100,130,140]\n",
    "\n",
    "#plot the data as is, appears quadratic\n",
    "plt.scatter(outcome, feature)\n",
    "plt.title('raw values')\n",
    "plt.show()\n",
    "\n",
    "#create a feature using a non-linear transformation\n",
    "sqrt_feature = [math.sqrt(x) for x in feature]\n",
    "\n",
    "#plot again\n",
    "plt.scatter(outcome, sqrt_feature)\n",
    "plt.title('transformed values')\n",
    "plt.show()"
   ]
  },
  {
   "cell_type": "markdown",
   "metadata": {},
   "source": [
    "## Assumption two: multivariate normality"
   ]
  },
  {
   "cell_type": "code",
   "execution_count": 4,
   "metadata": {},
   "outputs": [
    {
     "data": {
      "image/png": "[encoded data removed]",
      "text/plain": [
       "<matplotlib.figure.Figure at 0x10a48ccc0>"
      ]
     },
     "metadata": {},
     "output_type": "display_data"
    }
   ],
   "source": [
    "#extract predicted values\n",
    "predicted = regr.predict(X).ravel()\n",
    "actual = data['Sales']\n",
    "\n",
    "#calculated error aka residual\n",
    "residual = actual - predicted\n",
    "\n",
    "#plot distribution, this is not normal\n",
    "plt.hist(residual)\n",
    "plt.title('residual counts')\n",
    "plt.xlabel('residual')\n",
    "plt.ylabel('count')\n",
    "plt.show()"
   ]
  },
  {
   "cell_type": "markdown",
   "metadata": {},
   "source": [
    "## Assumption three: homoscedasticity\n",
    "\n",
    "Distribution of error (scedasticity) should be consistent for all predicted values (homescedastic)\n",
    "\n",
    "Heteroscedasticity  fixes include transforming the dependent variable and adding features that target the poorly estimated areas"
   ]
  },
  {
   "cell_type": "code",
   "execution_count": 5,
   "metadata": {},
   "outputs": [
    {
     "data": {
      "image/png": "[encoded data removed]",
      "text/plain": [
       "<matplotlib.figure.Figure at 0x10a529a90>"
      ]
     },
     "metadata": {},
     "output_type": "display_data"
    }
   ],
   "source": [
    "plt.scatter(predicted, residual)\n",
    "plt.xlabel('prediction')\n",
    "plt.ylabel('residual')\n",
    "plt.axhline(y=0)\n",
    "plt.title('residual vs. predicted')\n",
    "plt.show()"
   ]
  },
  {
   "cell_type": "markdown",
   "metadata": {},
   "source": [
    "## Assumption four: low multicollinearity\n",
    "\n",
    "Correlations among features should be low (or nonexistent)\n",
    "\n",
    "Fixes include PCA or by discarding some of the correlated features"
   ]
  },
  {
   "cell_type": "code",
   "execution_count": 6,
   "metadata": {},
   "outputs": [
    {
     "data": {
      "text/html": [
       "<div>\n",
       "<style scoped>\n",
       "    .dataframe tbody tr th:only-of-type {\n",
       "        vertical-align: middle;\n",
       "    }\n",
       "\n",
       "    .dataframe tbody tr th {\n",
       "        vertical-align: top;\n",
       "    }\n",
       "\n",
       "    .dataframe thead th {\n",
       "        text-align: right;\n",
       "    }\n",
       "</style>\n",
       "<table border=\"1\" class=\"dataframe\">\n",
       "  <thead>\n",
       "    <tr style=\"text-align: right;\">\n",
       "      <th></th>\n",
       "      <th>TV</th>\n",
       "      <th>Radio</th>\n",
       "      <th>Newspaper</th>\n",
       "    </tr>\n",
       "  </thead>\n",
       "  <tbody>\n",
       "    <tr>\n",
       "      <th>TV</th>\n",
       "      <td>1.000</td>\n",
       "      <td>0.055</td>\n",
       "      <td>0.057</td>\n",
       "    </tr>\n",
       "    <tr>\n",
       "      <th>Radio</th>\n",
       "      <td>0.055</td>\n",
       "      <td>1.000</td>\n",
       "      <td>0.354</td>\n",
       "    </tr>\n",
       "    <tr>\n",
       "      <th>Newspaper</th>\n",
       "      <td>0.057</td>\n",
       "      <td>0.354</td>\n",
       "      <td>1.000</td>\n",
       "    </tr>\n",
       "  </tbody>\n",
       "</table>\n",
       "</div>"
      ],
      "text/plain": [
       "             TV  Radio  Newspaper\n",
       "TV        1.000  0.055      0.057\n",
       "Radio     0.055  1.000      0.354\n",
       "Newspaper 0.057  0.354      1.000"
      ]
     },
     "metadata": {},
     "output_type": "display_data"
    }
   ],
   "source": [
    "correlation_matrix = X.corr()\n",
    "display(correlation_matrix)"
   ]
  },
  {
   "cell_type": "markdown",
   "metadata": {},
   "source": [
    "## Drill: fixing assumptions\n",
    "\n",
    "Fix multivariate non-normality and heteroscedasticity"
   ]
  },
  {
   "cell_type": "code",
   "execution_count": 7,
   "metadata": {},
   "outputs": [
    {
     "name": "stdout",
     "output_type": "stream",
     "text": [
      "residual median: 0.24180176660490105\n",
      "residual mean: -1.092459456231154e-15\n"
     ]
    }
   ],
   "source": [
    "print('residual median: {}'.format(residual.median()))\n",
    "print('residual mean: {}'.format(residual.mean()))"
   ]
  },
  {
   "cell_type": "code",
   "execution_count": 8,
   "metadata": {},
   "outputs": [
    {
     "data": {
      "text/plain": [
       "<matplotlib.axes._subplots.AxesSubplot at 0x113765ac8>"
      ]
     },
     "execution_count": 8,
     "metadata": {},
     "output_type": "execute_result"
    },
    {
     "data": {
      "image/png": "[encoded data removed]",
      "text/plain": [
       "<matplotlib.figure.Figure at 0x10a529940>"
      ]
     },
     "metadata": {},
     "output_type": "display_data"
    }
   ],
   "source": [
    "sns.boxplot(residual)"
   ]
  },
  {
   "cell_type": "code",
   "execution_count": 9,
   "metadata": {},
   "outputs": [
    {
     "data": {
      "image/png": "[encoded data removed]",
      "text/plain": [
       "<matplotlib.figure.Figure at 0x1138c9fd0>"
      ]
     },
     "metadata": {},
     "output_type": "display_data"
    }
   ],
   "source": [
    "residual_less_fliers = []\n",
    "\n",
    "for i in residual:\n",
    "    if i >= -4:\n",
    "        residual_less_fliers.append(i)\n",
    "\n",
    "plt.figure(figsize=(12,6))\n",
    "           \n",
    "plt.subplot(1,2,1)\n",
    "plt.hist(residual)\n",
    "plt.title('residual')\n",
    "plt.axvline(residual.mean(), color='r')\n",
    "\n",
    "plt.subplot(1,2,2)\n",
    "plt.hist(residual_less_fliers)\n",
    "plt.title('residual less fliers')\n",
    "plt.axvline((sum(residual_less_fliers)/len(residual_less_fliers)), color='r')\n",
    "plt.show()"
   ]
  },
  {
   "cell_type": "code",
   "execution_count": 14,
   "metadata": {},
   "outputs": [
    {
     "data": {
      "image/png": "[encoded data removed]",
      "text/plain": [
       "<matplotlib.figure.Figure at 0x1136f91d0>"
      ]
     },
     "metadata": {},
     "output_type": "display_data"
    }
   ],
   "source": [
    "residual_log_values = []\n",
    "\n",
    "for i in residual:\n",
    "    if i > 0:\n",
    "        residual_log_values.append(i)\n",
    "\n",
    "residual_log = np.log(residual_log_values)\n",
    "plt.hist(residual_log)\n",
    "plt.axvline((sum(residual_log)/len(residual_log)), color='r')\n",
    "plt.show()"
   ]
  },
  {
   "cell_type": "code",
   "execution_count": null,
   "metadata": {},
   "outputs": [],
   "source": []
  }
 ],
 "metadata": {
  "kernelspec": {
   "display_name": "Python 3",
   "language": "python",
   "name": "python3"
  },
  "language_info": {
   "codemirror_mode": {
    "name": "ipython",
    "version": 3
   },
   "file_extension": ".py",
   "mimetype": "text/x-python",
   "name": "python",
   "nbconvert_exporter": "python",
   "pygments_lexer": "ipython3",
   "version": "3.6.4"
  }
 },
 "nbformat": 4,
 "nbformat_minor": 2
}
