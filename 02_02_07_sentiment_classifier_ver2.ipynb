{
 "cells": [
  {
   "cell_type": "code",
   "execution_count": 3,
   "metadata": {},
   "outputs": [],
   "source": [
    "import numpy as np\n",
    "import pandas as pd\n",
    "import scipy\n",
    "import sklearn\n",
    "import matplotlib.pyplot as plt\n",
    "import seaborn as sns\n",
    "%matplotlib inline"
   ]
  },
  {
   "cell_type": "markdown",
   "metadata": {},
   "source": [
    "## Amazon Reviews - Naive Bayes\n",
    "\n",
    "Classifies unique words from reviews as positive or negative, then uses these lists to predict review scores"
   ]
  },
  {
   "cell_type": "code",
   "execution_count": 4,
   "metadata": {
    "scrolled": true
   },
   "outputs": [
    {
     "data": {
      "text/html": [
       "<div>\n",
       "<style scoped>\n",
       "    .dataframe tbody tr th:only-of-type {\n",
       "        vertical-align: middle;\n",
       "    }\n",
       "\n",
       "    .dataframe tbody tr th {\n",
       "        vertical-align: top;\n",
       "    }\n",
       "\n",
       "    .dataframe thead th {\n",
       "        text-align: right;\n",
       "    }\n",
       "</style>\n",
       "<table border=\"1\" class=\"dataframe\">\n",
       "  <thead>\n",
       "    <tr style=\"text-align: right;\">\n",
       "      <th></th>\n",
       "      <th>text</th>\n",
       "      <th>negative</th>\n",
       "    </tr>\n",
       "  </thead>\n",
       "  <tbody>\n",
       "    <tr>\n",
       "      <th>0</th>\n",
       "      <td>so there is no way for me to plug it in here i...</td>\n",
       "      <td>0</td>\n",
       "    </tr>\n",
       "    <tr>\n",
       "      <th>1</th>\n",
       "      <td>good case, excellent value.</td>\n",
       "      <td>1</td>\n",
       "    </tr>\n",
       "    <tr>\n",
       "      <th>2</th>\n",
       "      <td>great for the jawbone.</td>\n",
       "      <td>1</td>\n",
       "    </tr>\n",
       "    <tr>\n",
       "      <th>3</th>\n",
       "      <td>tied to charger for conversations lasting more...</td>\n",
       "      <td>0</td>\n",
       "    </tr>\n",
       "    <tr>\n",
       "      <th>4</th>\n",
       "      <td>the mic is great.</td>\n",
       "      <td>1</td>\n",
       "    </tr>\n",
       "  </tbody>\n",
       "</table>\n",
       "</div>"
      ],
      "text/plain": [
       "                                                text  negative\n",
       "0  so there is no way for me to plug it in here i...         0\n",
       "1                        good case, excellent value.         1\n",
       "2                             great for the jawbone.         1\n",
       "3  tied to charger for conversations lasting more...         0\n",
       "4                                  the mic is great.         1"
      ]
     },
     "execution_count": 4,
     "metadata": {},
     "output_type": "execute_result"
    }
   ],
   "source": [
    "amazon = pd.read_table('amazon_cells_labelled.txt', header=None)\n",
    "amazon.columns = ['text', 'negative']\n",
    "amazon = pd.DataFrame(amazon)\n",
    "amazon['text'] = amazon.text.str.lower() #lowercase all rows\n",
    "amazon.head()"
   ]
  },
  {
   "cell_type": "code",
   "execution_count": 5,
   "metadata": {},
   "outputs": [],
   "source": [
    "#set score column to boolean for comparisons, negative = True\n",
    "amazon['negative'] = (amazon['negative'] == 0)"
   ]
  },
  {
   "cell_type": "code",
   "execution_count": 6,
   "metadata": {},
   "outputs": [
    {
     "data": {
      "text/html": [
       "<div>\n",
       "<style scoped>\n",
       "    .dataframe tbody tr th:only-of-type {\n",
       "        vertical-align: middle;\n",
       "    }\n",
       "\n",
       "    .dataframe tbody tr th {\n",
       "        vertical-align: top;\n",
       "    }\n",
       "\n",
       "    .dataframe thead th {\n",
       "        text-align: right;\n",
       "    }\n",
       "</style>\n",
       "<table border=\"1\" class=\"dataframe\">\n",
       "  <thead>\n",
       "    <tr style=\"text-align: right;\">\n",
       "      <th></th>\n",
       "      <th>total_count</th>\n",
       "    </tr>\n",
       "  </thead>\n",
       "  <tbody>\n",
       "    <tr>\n",
       "      <th>the</th>\n",
       "      <td>513</td>\n",
       "    </tr>\n",
       "    <tr>\n",
       "      <th>i</th>\n",
       "      <td>313</td>\n",
       "    </tr>\n",
       "    <tr>\n",
       "      <th>and</th>\n",
       "      <td>310</td>\n",
       "    </tr>\n",
       "    <tr>\n",
       "      <th>is</th>\n",
       "      <td>238</td>\n",
       "    </tr>\n",
       "    <tr>\n",
       "      <th>it</th>\n",
       "      <td>237</td>\n",
       "    </tr>\n",
       "  </tbody>\n",
       "</table>\n",
       "</div>"
      ],
      "text/plain": [
       "     total_count\n",
       "the          513\n",
       "i            313\n",
       "and          310\n",
       "is           238\n",
       "it           237"
      ]
     },
     "execution_count": 6,
     "metadata": {},
     "output_type": "execute_result"
    }
   ],
   "source": [
    "#count unique words\n",
    "amazon_words = pd.DataFrame(amazon['text'].str.split(' ', expand=True).stack().value_counts())\n",
    "amazon_words.columns = ['total_count']\n",
    "amazon_words.head()"
   ]
  },
  {
   "cell_type": "code",
   "execution_count": 7,
   "metadata": {},
   "outputs": [
    {
     "data": {
      "text/html": [
       "<div>\n",
       "<style scoped>\n",
       "    .dataframe tbody tr th:only-of-type {\n",
       "        vertical-align: middle;\n",
       "    }\n",
       "\n",
       "    .dataframe tbody tr th {\n",
       "        vertical-align: top;\n",
       "    }\n",
       "\n",
       "    .dataframe thead th {\n",
       "        text-align: right;\n",
       "    }\n",
       "</style>\n",
       "<table border=\"1\" class=\"dataframe\">\n",
       "  <thead>\n",
       "    <tr style=\"text-align: right;\">\n",
       "      <th></th>\n",
       "      <th>negative_count</th>\n",
       "      <th>positive_count</th>\n",
       "      <th>total_count</th>\n",
       "      <th>negative_prob</th>\n",
       "      <th>positive_prob</th>\n",
       "    </tr>\n",
       "  </thead>\n",
       "  <tbody>\n",
       "    <tr>\n",
       "      <th>the</th>\n",
       "      <td>276</td>\n",
       "      <td>237.0</td>\n",
       "      <td>513</td>\n",
       "      <td>0.538012</td>\n",
       "      <td>0.461988</td>\n",
       "    </tr>\n",
       "    <tr>\n",
       "      <th>i</th>\n",
       "      <td>162</td>\n",
       "      <td>151.0</td>\n",
       "      <td>313</td>\n",
       "      <td>0.517572</td>\n",
       "      <td>0.482428</td>\n",
       "    </tr>\n",
       "    <tr>\n",
       "      <th>it</th>\n",
       "      <td>129</td>\n",
       "      <td>108.0</td>\n",
       "      <td>237</td>\n",
       "      <td>0.544304</td>\n",
       "      <td>0.455696</td>\n",
       "    </tr>\n",
       "    <tr>\n",
       "      <th>and</th>\n",
       "      <td>122</td>\n",
       "      <td>188.0</td>\n",
       "      <td>310</td>\n",
       "      <td>0.393548</td>\n",
       "      <td>0.606452</td>\n",
       "    </tr>\n",
       "    <tr>\n",
       "      <th>a</th>\n",
       "      <td>113</td>\n",
       "      <td>104.0</td>\n",
       "      <td>217</td>\n",
       "      <td>0.520737</td>\n",
       "      <td>0.479263</td>\n",
       "    </tr>\n",
       "  </tbody>\n",
       "</table>\n",
       "</div>"
      ],
      "text/plain": [
       "     negative_count  positive_count  total_count  negative_prob  positive_prob\n",
       "the             276           237.0          513       0.538012       0.461988\n",
       "i               162           151.0          313       0.517572       0.482428\n",
       "it              129           108.0          237       0.544304       0.455696\n",
       "and             122           188.0          310       0.393548       0.606452\n",
       "a               113           104.0          217       0.520737       0.479263"
      ]
     },
     "execution_count": 7,
     "metadata": {},
     "output_type": "execute_result"
    }
   ],
   "source": [
    "#get counts for negative and positive reviews\n",
    "amazon_negative = amazon[amazon['negative']==True]\n",
    "amazon_positive = amazon[amazon['negative']==False]\n",
    "\n",
    "amazon_negative_count = pd.DataFrame(amazon_negative['text'].str.split(' ', expand=True).stack().value_counts())\n",
    "amazon_negative_count.columns = ['negative_count']\n",
    "amazon_positive_count = pd.DataFrame(amazon_positive['text'].str.split(' ', expand=True).stack().value_counts())\n",
    "amazon_positive_count.columns = ['positive_count']\n",
    "\n",
    "#join together\n",
    "count_joined = amazon_negative_count.join(amazon_positive_count)\n",
    "count_joined = count_joined.join(amazon_words['total_count'])\n",
    "\n",
    "#calculate probabilites and join\n",
    "count_joined['negative_prob'] = count_joined['negative_count']/count_joined['total_count']\n",
    "count_joined['positive_prob'] = count_joined['positive_count']/count_joined['total_count']\n",
    "count_joined.head()"
   ]
  },
  {
   "cell_type": "code",
   "execution_count": 8,
   "metadata": {},
   "outputs": [],
   "source": [
    "#put higher negative probabilty words into list\n",
    "amzn_words_negative = pd.DataFrame(count_joined['negative_prob'] > count_joined['positive_prob'])\n",
    "amzn_words_negative.columns = ['greater']\n",
    "amzn_words_negative = amzn_words_negative[amzn_words_negative['greater'] == True]\n",
    "amzn_words_negative = amzn_words_negative.index.values"
   ]
  },
  {
   "cell_type": "code",
   "execution_count": 9,
   "metadata": {},
   "outputs": [
    {
     "name": "stdout",
     "output_type": "stream",
     "text": [
      "Number of mislabeled points out of a total 1000 points: 332\n"
     ]
    }
   ],
   "source": [
    "#run naive bayes classifier\n",
    "for word in amzn_words_negative:\n",
    "    amazon[str(word)] = amazon.text.str.contains(' ' + str(word) + ' ')\n",
    "    \n",
    "amzn_data_neg = amazon[amzn_words_negative]\n",
    "amzn_target_neg = amazon['negative']\n",
    "\n",
    "from sklearn.naive_bayes import BernoulliNB\n",
    "\n",
    "bnb = BernoulliNB()\n",
    "bnb.fit(amzn_data_neg, amzn_target_neg)\n",
    "amzn_pred_neg = bnb.predict(amzn_data_neg)\n",
    "\n",
    "print('Number of mislabeled points out of a total {} points: {}'\n",
    "      .format(amzn_data_neg.shape[0],(amzn_target_neg != amzn_pred_neg).sum()))"
   ]
  },
  {
   "cell_type": "code",
   "execution_count": 10,
   "metadata": {},
   "outputs": [],
   "source": [
    "#do same but from positive angle\n",
    "amzn_words_positive = pd.DataFrame(count_joined['positive_prob'] > count_joined['negative_prob'])\n",
    "amzn_words_positive.columns = ['greater']\n",
    "amzn_words_positive = amzn_words_positive[amzn_words_positive['greater'] == True]\n",
    "amzn_words_positive = amzn_words_positive.index.values"
   ]
  },
  {
   "cell_type": "code",
   "execution_count": 11,
   "metadata": {},
   "outputs": [
    {
     "name": "stdout",
     "output_type": "stream",
     "text": [
      "Number of mislabeled points out of a total 1000 points: 343\n"
     ]
    }
   ],
   "source": [
    "#run naive bayes classifier\n",
    "for word in amzn_words_positive:\n",
    "    amazon[str(word)] = amazon.text.str.contains(' ' + str(word) + ' ')\n",
    "    \n",
    "amzn_data_pos = amazon[amzn_words_positive]\n",
    "amzn_target_pos = amazon['negative']\n",
    "\n",
    "from sklearn.naive_bayes import BernoulliNB\n",
    "\n",
    "bnb = BernoulliNB()\n",
    "bnb.fit(amzn_data_pos, amzn_target_pos)\n",
    "amzn_pred_pos = bnb.predict(amzn_data_pos)\n",
    "\n",
    "print('Number of mislabeled points out of a total {} points: {}'\n",
    "      .format(amzn_data_pos.shape[0],(amzn_target_pos != amzn_pred_pos).sum()))"
   ]
  },
  {
   "cell_type": "code",
   "execution_count": null,
   "metadata": {},
   "outputs": [],
   "source": []
  }
 ],
 "metadata": {
  "kernelspec": {
   "display_name": "Python 3",
   "language": "python",
   "name": "python3"
  },
  "language_info": {
   "codemirror_mode": {
    "name": "ipython",
    "version": 3
   },
   "file_extension": ".py",
   "mimetype": "text/x-python",
   "name": "python",
   "nbconvert_exporter": "python",
   "pygments_lexer": "ipython3",
   "version": "3.6.4"
  }
 },
 "nbformat": 4,
 "nbformat_minor": 2
}
