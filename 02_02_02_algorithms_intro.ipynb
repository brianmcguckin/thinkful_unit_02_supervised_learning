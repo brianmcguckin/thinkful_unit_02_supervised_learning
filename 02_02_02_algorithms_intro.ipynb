{
 "cells": [
  {
   "cell_type": "markdown",
   "metadata": {},
   "source": [
    "## Algorithm\n",
    "\n",
    "A set of instructions for a computer. There are many ways to write an algorithm and get the same result. One criteria for judging algorithms is efficiency"
   ]
  },
  {
   "cell_type": "code",
   "execution_count": 1,
   "metadata": {},
   "outputs": [
    {
     "data": {
      "text/plain": [
       "False"
      ]
     },
     "execution_count": 1,
     "metadata": {},
     "output_type": "execute_result"
    }
   ],
   "source": [
    "5 == 4"
   ]
  },
  {
   "cell_type": "code",
   "execution_count": 2,
   "metadata": {},
   "outputs": [
    {
     "name": "stdout",
     "output_type": "stream",
     "text": [
      "False\n",
      "False\n",
      "False\n",
      "False\n",
      "True\n"
     ]
    }
   ],
   "source": [
    "numbers = [1,2,3,4,5]\n",
    "\n",
    "for i in numbers:\n",
    "    print(i>4)"
   ]
  },
  {
   "cell_type": "markdown",
   "metadata": {},
   "source": [
    "## Algorithmic efficiency and complexity\n",
    "\n",
    "With a single observation a computer can get away with being inefficient and taking a significant number of steps to do something. The more data you have, however, that tolerance for inefficiency goes down. It starts to matter how much work it takes for a computer to work with large scale data.\n",
    "\n",
    "__Linear complexity:__ for each additional element in the dataset, an additional step is added to the algorithm (ie numbers for loop above)\n",
    "\n",
    "__Quadratic complexity:__ number of steps scale according to the square of the length of the list"
   ]
  },
  {
   "cell_type": "code",
   "execution_count": 6,
   "metadata": {
    "scrolled": false
   },
   "outputs": [
    {
     "name": "stdout",
     "output_type": "stream",
     "text": [
      "False\n",
      "False\n",
      "False\n",
      "False\n",
      "False\n",
      "True\n",
      "False\n",
      "False\n",
      "False\n",
      "False\n",
      "True\n",
      "True\n",
      "False\n",
      "False\n",
      "False\n",
      "True\n",
      "True\n",
      "True\n",
      "False\n",
      "False\n",
      "True\n",
      "True\n",
      "True\n",
      "True\n",
      "False\n"
     ]
    }
   ],
   "source": [
    "#quadratic complexity example\n",
    "numbers = [1,2,3,4,5]\n",
    "\n",
    "for i in numbers:\n",
    "    for j in numbers:\n",
    "        print(i>j)"
   ]
  },
  {
   "cell_type": "markdown",
   "metadata": {},
   "source": [
    "## Big O Notation\n",
    "\n",
    "Describes scaling rate. As the number of elements in the algorithm's input grows, notation shows the lower bound of performance. Something that is O(n) will be at worst n steps.\n",
    "\n",
    "Linear complexity is O(n), where n is the length of the list 'numbers'\n",
    "\n",
    "Quadratic complexity is O(n^2), where n is the length of the list 'numbers'"
   ]
  },
  {
   "cell_type": "code",
   "execution_count": 8,
   "metadata": {},
   "outputs": [
    {
     "name": "stdout",
     "output_type": "stream",
     "text": [
      "False\n",
      "False\n",
      "True\n",
      "True\n",
      "True\n"
     ]
    }
   ],
   "source": [
    "y = 2 #outside of loop, will always be executed exactly once, is not dependent on how many items are in n\n",
    "numbers = [1,2,3,4,5]\n",
    "\n",
    "for i in numbers:\n",
    "    print(i>y)"
   ]
  },
  {
   "cell_type": "markdown",
   "metadata": {},
   "source": [
    "The key here is that when we use big O notation to refer to an algorithm’s complexity, we’re talking about how efficiently the algorithm scales with additional data. For some datasets we can be ok with relatively inefficient algorithms, but in practice efficiency often matters because it sets an upper bound on the size of the dataset you can reasonably work with."
   ]
  },
  {
   "cell_type": "markdown",
   "metadata": {},
   "source": [
    "## Drill: Regression or Classification\n",
    "\n",
    "For each of the following situations, decide if you would model using a regression or classification model. Discuss your reasoning with your mentor next time you meet.\n",
    "\n",
    "The amount a person will spend on a given site in the next 24 months. Regression\n",
    "\n",
    "What color car someone is going to buy. Regression\n",
    "\n",
    "How many children a family will have. Classification\n",
    "\n",
    "If someone will sign up for a service. Classification\n",
    "\n",
    "The number of times someone will get sick in a year. Classification\n",
    "\n",
    "The probability someone will get sick in the next month. Regression\n",
    "\n",
    "Which medicine will work best for a given patient. Classification\n"
   ]
  },
  {
   "cell_type": "code",
   "execution_count": null,
   "metadata": {},
   "outputs": [],
   "source": []
  }
 ],
 "metadata": {
  "kernelspec": {
   "display_name": "Python 3",
   "language": "python",
   "name": "python3"
  },
  "language_info": {
   "codemirror_mode": {
    "name": "ipython",
    "version": 3
   },
   "file_extension": ".py",
   "mimetype": "text/x-python",
   "name": "python",
   "nbconvert_exporter": "python",
   "pygments_lexer": "ipython3",
   "version": "3.6.4"
  }
 },
 "nbformat": 4,
 "nbformat_minor": 2
}
